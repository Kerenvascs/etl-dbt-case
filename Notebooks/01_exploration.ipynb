{
 "cells": [
  {
   "cell_type": "markdown",
   "id": "3dbe264d-bbc5-4bee-91d0-2daee16c9bfa",
   "metadata": {},
   "source": [
    "# GetGround Data Task"
   ]
  },
  {
   "cell_type": "markdown",
   "id": "e3baeb69-35df-40a2-aef3-334c8f262b03",
   "metadata": {},
   "source": [
    "## Goal: \n",
    "- to insert this data into a SQL database on your local machine; \n",
    "- run some SQL queries and analysis; \n",
    "- document, explain and visualize your response to the questions asked."
   ]
  },
  {
   "cell_type": "markdown",
   "id": "c06033b8-6140-4378-9d63-3f6bfb34a8b7",
   "metadata": {},
   "source": [
    "## Workflow:\n",
    "\n",
    "- 1. Understand the data\n",
    "- 2. Load raw data (csvs) into postgres \n",
    "- 3. Install dbt and connect to postgres ( Docker ?)\n",
    "- 4. Create models\n",
    "- 4. Analyze the data\n",
    "- 5. Report"
   ]
  },
  {
   "cell_type": "markdown",
   "id": "b3f93f8b-d569-4f95-892b-924acf417436",
   "metadata": {},
   "source": [
    "## Imports and setting"
   ]
  },
  {
   "cell_type": "code",
   "execution_count": null,
   "id": "799aa150-9cfd-4625-9a19-40d7a52168b2",
   "metadata": {},
   "outputs": [],
   "source": [
    "import pandas as pd\n",
    "import numpy as np\n",
    "import datetime\n",
    "\n",
    "pd.set_option('display.max_rows', None)\n",
    "pd.set_option('display.max_columns', None)"
   ]
  },
  {
   "cell_type": "code",
   "execution_count": null,
   "id": "f01be85a-4e31-4350-84e2-35233d0b4100",
   "metadata": {},
   "outputs": [],
   "source": [
    "# load partners\n",
    "partners = pd.read_csv('/home/developer/Desktop/testes/tech-tests/GetGround_Analytics_Engineer_Data/partners.csv')\n",
    "partners.info()"
   ]
  },
  {
   "cell_type": "code",
   "execution_count": null,
   "id": "a5699566-b469-48e2-9945-7748a9129d0d",
   "metadata": {},
   "outputs": [],
   "source": [
    "partners.head()"
   ]
  },
  {
   "cell_type": "code",
   "execution_count": null,
   "id": "fce526b4-8d53-4997-b498-fdc3da940965",
   "metadata": {},
   "outputs": [],
   "source": [
    "# load referrals\n",
    "referrals = pd.read_csv('/home/developer/Desktop/testes/tech-tests/GetGround_Analytics_Engineer_Data/referrals.csv')\n",
    "referrals.info()"
   ]
  },
  {
   "cell_type": "code",
   "execution_count": null,
   "id": "0290f03d-9353-4bf3-9ef4-48fecad66bdc",
   "metadata": {},
   "outputs": [],
   "source": [
    "referrals.head()"
   ]
  },
  {
   "cell_type": "code",
   "execution_count": null,
   "id": "d706c858-a331-4af0-b4df-80b6ba257a57",
   "metadata": {},
   "outputs": [],
   "source": [
    "referrals.status.unique()"
   ]
  },
  {
   "cell_type": "code",
   "execution_count": null,
   "id": "8317c1c9-b334-4a8a-94d8-c1a4a3b544ca",
   "metadata": {},
   "outputs": [],
   "source": [
    "referrals.columns"
   ]
  },
  {
   "cell_type": "code",
   "execution_count": null,
   "id": "8bc4b4c6-26ca-4a48-86b6-c0ee8759a1aa",
   "metadata": {},
   "outputs": [],
   "source": [
    "# load sales_people\n",
    "sales_people = pd.read_csv('/home/developer/Desktop/testes/tech-tests/GetGround_Analytics_Engineer_Data/sales_people.csv')\n",
    "sales_people.info()"
   ]
  },
  {
   "cell_type": "code",
   "execution_count": null,
   "id": "e1befc14-40dc-4999-95cf-bb67f37c6ded",
   "metadata": {
    "tags": []
   },
   "outputs": [],
   "source": [
    "sales_people.columns"
   ]
  },
  {
   "cell_type": "code",
   "execution_count": null,
   "id": "25ebe3c0-1112-4740-9ec9-a3f1706410fd",
   "metadata": {},
   "outputs": [],
   "source": [
    "sales_people.head()"
   ]
  },
  {
   "cell_type": "code",
   "execution_count": null,
   "id": "2589942b-f4ce-4530-9bb2-4af470869bfb",
   "metadata": {
    "tags": []
   },
   "outputs": [],
   "source": [
    "print(len(sales_people.country.unique()))\n",
    "print((sales_people.country.unique()))"
   ]
  },
  {
   "cell_type": "code",
   "execution_count": null,
   "id": "b0d28888-9dde-469f-bc3e-d3a7ba2b58d2",
   "metadata": {},
   "outputs": [],
   "source": [
    "list1 = list(sales_people.name.unique())\n",
    "list1.sort()\n",
    "print(list1)\n",
    "print(len(list1))"
   ]
  },
  {
   "cell_type": "code",
   "execution_count": null,
   "id": "130599c7-1a8a-40bd-bbb6-6b0cc016c428",
   "metadata": {},
   "outputs": [],
   "source": [
    "# Lead_sales people = names"
   ]
  },
  {
   "cell_type": "code",
   "execution_count": null,
   "id": "b4f3b0ae-5595-4b38-9ed7-242c9ba2bcb1",
   "metadata": {},
   "outputs": [],
   "source": [
    "list2 = list(partners.lead_sales_contact.unique())\n",
    "list2.sort()\n",
    "list2\n",
    "\n",
    "# temos 0"
   ]
  },
  {
   "cell_type": "code",
   "execution_count": null,
   "id": "1a8fbcc0-f320-4fe2-b462-1b7a5fb6ef4a",
   "metadata": {},
   "outputs": [],
   "source": [
    "diff = set(list1) - set(list2)\n",
    "diff"
   ]
  },
  {
   "cell_type": "code",
   "execution_count": null,
   "id": "7fba44e7-7414-42cd-a07b-8add73e0f2fe",
   "metadata": {},
   "outputs": [],
   "source": [
    "diff = set(list2) - set(list1)\n",
    "diff"
   ]
  },
  {
   "cell_type": "code",
   "execution_count": null,
   "id": "d14d49d6-1b2b-4037-9585-2ee7e6859cbb",
   "metadata": {},
   "outputs": [],
   "source": [
    "# nao temos orange, 0 e potato"
   ]
  },
  {
   "cell_type": "code",
   "execution_count": null,
   "id": "02adcdf0-f581-4dc5-ae6a-5ccf9ac96f64",
   "metadata": {},
   "outputs": [],
   "source": [
    "partners.isnull().sum()"
   ]
  },
  {
   "cell_type": "code",
   "execution_count": null,
   "id": "c8d1da1e-ec75-42ff-9017-68dcc80cac2b",
   "metadata": {},
   "outputs": [],
   "source": [
    "partners[partners['created_at']==0]"
   ]
  },
  {
   "cell_type": "code",
   "execution_count": null,
   "id": "22b24c1a-e1d8-49d4-bb01-b9dba0e79e2b",
   "metadata": {},
   "outputs": [],
   "source": [
    "partners[partners['updated_at']==0]"
   ]
  },
  {
   "cell_type": "code",
   "execution_count": null,
   "id": "e520c917-a199-4b9d-af22-a105ec68cf39",
   "metadata": {},
   "outputs": [],
   "source": [
    "referrals[referrals['created_at']==0]"
   ]
  },
  {
   "cell_type": "code",
   "execution_count": null,
   "id": "b281bf76-5db6-46a4-aea1-22e1ed5aabc9",
   "metadata": {},
   "outputs": [],
   "source": [
    "referrals[referrals['updated_at']==0]"
   ]
  },
  {
   "cell_type": "code",
   "execution_count": null,
   "id": "9571d686-995f-4f11-a0d7-4de3792cb36a",
   "metadata": {},
   "outputs": [],
   "source": [
    "referrals.shape"
   ]
  },
  {
   "cell_type": "code",
   "execution_count": null,
   "id": "c5ab7d8b-89c0-420f-8110-a2f631d449b5",
   "metadata": {},
   "outputs": [],
   "source": [
    "partners.shape"
   ]
  },
  {
   "cell_type": "code",
   "execution_count": null,
   "id": "c095d276-dff7-4d55-8801-7869b56bae0b",
   "metadata": {},
   "outputs": [],
   "source": [
    "len(referrals.id.unique())"
   ]
  },
  {
   "cell_type": "code",
   "execution_count": null,
   "id": "454a0e4b-21c3-47f2-bb19-b8d0fb152c04",
   "metadata": {},
   "outputs": [],
   "source": [
    "len(partners.id.unique())"
   ]
  },
  {
   "cell_type": "code",
   "execution_count": null,
   "id": "8d727caf-ac4f-4b6a-b726-d8f8d458bf51",
   "metadata": {},
   "outputs": [],
   "source": [
    "partners.dtypes"
   ]
  },
  {
   "cell_type": "code",
   "execution_count": null,
   "id": "80799914-67d2-4ee2-ab46-80c8dcc8b60c",
   "metadata": {
    "tags": []
   },
   "outputs": [],
   "source": [
    "# check dates\n",
    "partner_corrected = partners.astype({'created_at':'datetime64[ns]', 'updated_at': 'datetime64[ns]'})\n",
    "partner_corrected.created_at.min()"
   ]
  },
  {
   "cell_type": "code",
   "execution_count": null,
   "id": "ccd1b565-646d-4de4-a83f-c6de11f23ead",
   "metadata": {},
   "outputs": [],
   "source": [
    "partners['created_at_len'] = partners['created_at'].astype(str).map(len)\n",
    "partners.head()"
   ]
  },
  {
   "cell_type": "code",
   "execution_count": null,
   "id": "48f35700-f4e3-49ff-931a-4de1b8ff8074",
   "metadata": {},
   "outputs": [],
   "source": [
    "partners.created_at_len.unique()"
   ]
  },
  {
   "cell_type": "code",
   "execution_count": null,
   "id": "6bbd09b3-8025-4e79-a406-e8220a17059a",
   "metadata": {},
   "outputs": [],
   "source": [
    "partners_ids = list(partners.id.unique())\n",
    "partners_ids.sort()\n",
    "print(len(partners_ids))\n",
    "print(partners_ids)"
   ]
  },
  {
   "cell_type": "code",
   "execution_count": null,
   "id": "2204d5ec-b2ed-4862-9f80-c844590c9a68",
   "metadata": {},
   "outputs": [],
   "source": [
    "referrals.id.unique()"
   ]
  },
  {
   "cell_type": "code",
   "execution_count": null,
   "id": "ddb3da74-5841-4015-ab5b-e6d584c0c24a",
   "metadata": {},
   "outputs": [],
   "source": [
    "ref_partners = list(referrals.partner_id.unique())\n",
    "ref_partners.sort()\n",
    "print(ref_partners)"
   ]
  },
  {
   "cell_type": "code",
   "execution_count": null,
   "id": "c0d3dc2f-37b3-427b-8503-e31496b52572",
   "metadata": {},
   "outputs": [],
   "source": [
    "df = referrals[referrals.partner_id.isin(partners_ids)]\n",
    "df.shape"
   ]
  },
  {
   "cell_type": "code",
   "execution_count": null,
   "id": "6487f88a-ff91-4d8f-98e3-1ce279f4f7ec",
   "metadata": {},
   "outputs": [],
   "source": [
    "referrals.shape"
   ]
  },
  {
   "cell_type": "code",
   "execution_count": null,
   "id": "6c8cb1f2-fee4-4434-af41-a44bbbd6bf8a",
   "metadata": {},
   "outputs": [],
   "source": [
    "df2 = referrals[~referrals.partner_id.isin(partners_ids)]\n",
    "df2.shape\n",
    "\n",
    "# todos estao lá"
   ]
  },
  {
   "cell_type": "code",
   "execution_count": null,
   "id": "dade856e-cd87-4243-8117-31ee66c26f39",
   "metadata": {},
   "outputs": [],
   "source": [
    "# check partners in referrals\n",
    "df = partners[partners.id.isin(ref_partners)]\n",
    "df.shape\n",
    "\n",
    "# Only 110 of 522 are in referrals"
   ]
  },
  {
   "cell_type": "code",
   "execution_count": null,
   "id": "e2cfa127-6420-4945-bcfe-038944d3cea0",
   "metadata": {},
   "outputs": [],
   "source": [
    "# check partners not in referrals\n",
    "df = partners[~partners.id.isin(ref_partners)]\n",
    "df.shape"
   ]
  },
  {
   "cell_type": "code",
   "execution_count": null,
   "id": "5bd7c37a-e8ef-4247-bbda-11692696f0d8",
   "metadata": {},
   "outputs": [],
   "source": []
  }
 ],
 "metadata": {
  "kernelspec": {
   "display_name": "Python 3 (ipykernel)",
   "language": "python",
   "name": "python3"
  },
  "language_info": {
   "codemirror_mode": {
    "name": "ipython",
    "version": 3
   },
   "file_extension": ".py",
   "mimetype": "text/x-python",
   "name": "python",
   "nbconvert_exporter": "python",
   "pygments_lexer": "ipython3",
   "version": "3.10.5"
  }
 },
 "nbformat": 4,
 "nbformat_minor": 5
}
