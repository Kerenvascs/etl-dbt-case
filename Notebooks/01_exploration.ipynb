{
 "cells": [
  {
   "cell_type": "markdown",
   "id": "3dbe264d-bbc5-4bee-91d0-2daee16c9bfa",
   "metadata": {},
   "source": [
    "# GetGround Data Task"
   ]
  },
  {
   "cell_type": "markdown",
   "id": "e3baeb69-35df-40a2-aef3-334c8f262b03",
   "metadata": {},
   "source": [
    "## Goal: \n",
    "- to insert this data into a SQL database on your local machine; \n",
    "- run some SQL queries and analysis; \n",
    "- document, explain and visualize your response to the questions asked."
   ]
  },
  {
   "cell_type": "markdown",
   "id": "c06033b8-6140-4378-9d63-3f6bfb34a8b7",
   "metadata": {},
   "source": [
    "## Workflow:\n",
    "\n",
    "- 1. Understand the data\n",
    "- 2. Load raw data (csvs) into postgres \n",
    "- 3. Install dbt and connect to postgres ( Docker ?)\n",
    "- 4. Create models\n",
    "- 4. Analyze the data\n",
    "- 5. Report"
   ]
  },
  {
   "cell_type": "markdown",
   "id": "b3f93f8b-d569-4f95-892b-924acf417436",
   "metadata": {},
   "source": [
    "## Imports and setting"
   ]
  },
  {
   "cell_type": "code",
   "execution_count": 1,
   "id": "799aa150-9cfd-4625-9a19-40d7a52168b2",
   "metadata": {},
   "outputs": [],
   "source": [
    "import pandas as pd\n",
    "import numpy as np\n",
    "import datetime\n",
    "\n",
    "pd.set_option('display.max_rows', None)\n",
    "pd.set_option('display.max_columns', None)"
   ]
  },
  {
   "cell_type": "code",
   "execution_count": 2,
   "id": "f01be85a-4e31-4350-84e2-35233d0b4100",
   "metadata": {},
   "outputs": [
    {
     "name": "stdout",
     "output_type": "stream",
     "text": [
      "<class 'pandas.core.frame.DataFrame'>\n",
      "RangeIndex: 522 entries, 0 to 521\n",
      "Data columns (total 5 columns):\n",
      " #   Column              Non-Null Count  Dtype  \n",
      "---  ------              --------------  -----  \n",
      " 0   id                  522 non-null    int64  \n",
      " 1   created_at          522 non-null    float64\n",
      " 2   updated_at          522 non-null    float64\n",
      " 3   partner_type        522 non-null    object \n",
      " 4   lead_sales_contact  522 non-null    object \n",
      "dtypes: float64(2), int64(1), object(2)\n",
      "memory usage: 20.5+ KB\n"
     ]
    }
   ],
   "source": [
    "# load partners\n",
    "partners = pd.read_csv('/home/developer/Desktop/testes/tech-tests/GetGround_Analytics_Engineer_Data/partners.csv')\n",
    "partners.info()"
   ]
  },
  {
   "cell_type": "code",
   "execution_count": 3,
   "id": "a5699566-b469-48e2-9945-7748a9129d0d",
   "metadata": {},
   "outputs": [
    {
     "data": {
      "text/html": [
       "<div>\n",
       "<style scoped>\n",
       "    .dataframe tbody tr th:only-of-type {\n",
       "        vertical-align: middle;\n",
       "    }\n",
       "\n",
       "    .dataframe tbody tr th {\n",
       "        vertical-align: top;\n",
       "    }\n",
       "\n",
       "    .dataframe thead th {\n",
       "        text-align: right;\n",
       "    }\n",
       "</style>\n",
       "<table border=\"1\" class=\"dataframe\">\n",
       "  <thead>\n",
       "    <tr style=\"text-align: right;\">\n",
       "      <th></th>\n",
       "      <th>id</th>\n",
       "      <th>created_at</th>\n",
       "      <th>updated_at</th>\n",
       "      <th>partner_type</th>\n",
       "      <th>lead_sales_contact</th>\n",
       "    </tr>\n",
       "  </thead>\n",
       "  <tbody>\n",
       "    <tr>\n",
       "      <th>0</th>\n",
       "      <td>2</td>\n",
       "      <td>1.598856e+18</td>\n",
       "      <td>1.607047e+18</td>\n",
       "      <td>Agent</td>\n",
       "      <td>Potato</td>\n",
       "    </tr>\n",
       "    <tr>\n",
       "      <th>1</th>\n",
       "      <td>3</td>\n",
       "      <td>1.598859e+18</td>\n",
       "      <td>1.618882e+18</td>\n",
       "      <td>Agent</td>\n",
       "      <td>Lion</td>\n",
       "    </tr>\n",
       "    <tr>\n",
       "      <th>2</th>\n",
       "      <td>4</td>\n",
       "      <td>1.598859e+18</td>\n",
       "      <td>1.616642e+18</td>\n",
       "      <td>Agent</td>\n",
       "      <td>Potato</td>\n",
       "    </tr>\n",
       "    <tr>\n",
       "      <th>3</th>\n",
       "      <td>5</td>\n",
       "      <td>1.598860e+18</td>\n",
       "      <td>1.607331e+18</td>\n",
       "      <td>Agent</td>\n",
       "      <td>Lion</td>\n",
       "    </tr>\n",
       "    <tr>\n",
       "      <th>4</th>\n",
       "      <td>6</td>\n",
       "      <td>1.598866e+18</td>\n",
       "      <td>1.609743e+18</td>\n",
       "      <td>Agent</td>\n",
       "      <td>Potato</td>\n",
       "    </tr>\n",
       "  </tbody>\n",
       "</table>\n",
       "</div>"
      ],
      "text/plain": [
       "   id    created_at    updated_at partner_type lead_sales_contact\n",
       "0   2  1.598856e+18  1.607047e+18        Agent             Potato\n",
       "1   3  1.598859e+18  1.618882e+18        Agent               Lion\n",
       "2   4  1.598859e+18  1.616642e+18        Agent             Potato\n",
       "3   5  1.598860e+18  1.607331e+18        Agent               Lion\n",
       "4   6  1.598866e+18  1.609743e+18        Agent             Potato"
      ]
     },
     "execution_count": 3,
     "metadata": {},
     "output_type": "execute_result"
    }
   ],
   "source": [
    "partners.head()"
   ]
  },
  {
   "cell_type": "code",
   "execution_count": 4,
   "id": "fce526b4-8d53-4997-b498-fdc3da940965",
   "metadata": {},
   "outputs": [
    {
     "name": "stdout",
     "output_type": "stream",
     "text": [
      "<class 'pandas.core.frame.DataFrame'>\n",
      "RangeIndex: 1470 entries, 0 to 1469\n",
      "Data columns (total 8 columns):\n",
      " #   Column         Non-Null Count  Dtype  \n",
      "---  ------         --------------  -----  \n",
      " 0   id             1470 non-null   int64  \n",
      " 1   created_at     1470 non-null   float64\n",
      " 2   updated_at     1470 non-null   float64\n",
      " 3   company_id     1470 non-null   int64  \n",
      " 4   partner_id     1470 non-null   int64  \n",
      " 5   consultant_id  1470 non-null   int64  \n",
      " 6   status         1470 non-null   object \n",
      " 7   is_outbound    1470 non-null   int64  \n",
      "dtypes: float64(2), int64(5), object(1)\n",
      "memory usage: 92.0+ KB\n"
     ]
    }
   ],
   "source": [
    "# load referrals\n",
    "referrals = pd.read_csv('/home/developer/Desktop/testes/tech-tests/GetGround_Analytics_Engineer_Data/referrals.csv')\n",
    "referrals.info()"
   ]
  },
  {
   "cell_type": "code",
   "execution_count": 6,
   "id": "0290f03d-9353-4bf3-9ef4-48fecad66bdc",
   "metadata": {},
   "outputs": [
    {
     "data": {
      "text/html": [
       "<div>\n",
       "<style scoped>\n",
       "    .dataframe tbody tr th:only-of-type {\n",
       "        vertical-align: middle;\n",
       "    }\n",
       "\n",
       "    .dataframe tbody tr th {\n",
       "        vertical-align: top;\n",
       "    }\n",
       "\n",
       "    .dataframe thead th {\n",
       "        text-align: right;\n",
       "    }\n",
       "</style>\n",
       "<table border=\"1\" class=\"dataframe\">\n",
       "  <thead>\n",
       "    <tr style=\"text-align: right;\">\n",
       "      <th></th>\n",
       "      <th>id</th>\n",
       "      <th>created_at</th>\n",
       "      <th>updated_at</th>\n",
       "      <th>company_id</th>\n",
       "      <th>partner_id</th>\n",
       "      <th>consultant_id</th>\n",
       "      <th>status</th>\n",
       "      <th>is_outbound</th>\n",
       "    </tr>\n",
       "  </thead>\n",
       "  <tbody>\n",
       "    <tr>\n",
       "      <th>0</th>\n",
       "      <td>1</td>\n",
       "      <td>1.598956e+18</td>\n",
       "      <td>1.598956e+18</td>\n",
       "      <td>385</td>\n",
       "      <td>4</td>\n",
       "      <td>4</td>\n",
       "      <td>successful</td>\n",
       "      <td>0</td>\n",
       "    </tr>\n",
       "    <tr>\n",
       "      <th>1</th>\n",
       "      <td>2</td>\n",
       "      <td>1.599105e+18</td>\n",
       "      <td>1.599105e+18</td>\n",
       "      <td>390</td>\n",
       "      <td>7</td>\n",
       "      <td>8</td>\n",
       "      <td>successful</td>\n",
       "      <td>0</td>\n",
       "    </tr>\n",
       "    <tr>\n",
       "      <th>2</th>\n",
       "      <td>3</td>\n",
       "      <td>1.599105e+18</td>\n",
       "      <td>1.599105e+18</td>\n",
       "      <td>387</td>\n",
       "      <td>7</td>\n",
       "      <td>8</td>\n",
       "      <td>successful</td>\n",
       "      <td>0</td>\n",
       "    </tr>\n",
       "    <tr>\n",
       "      <th>3</th>\n",
       "      <td>4</td>\n",
       "      <td>1.599105e+18</td>\n",
       "      <td>1.599105e+18</td>\n",
       "      <td>385</td>\n",
       "      <td>7</td>\n",
       "      <td>8</td>\n",
       "      <td>successful</td>\n",
       "      <td>0</td>\n",
       "    </tr>\n",
       "    <tr>\n",
       "      <th>4</th>\n",
       "      <td>5</td>\n",
       "      <td>1.599106e+18</td>\n",
       "      <td>1.599106e+18</td>\n",
       "      <td>331</td>\n",
       "      <td>8</td>\n",
       "      <td>9</td>\n",
       "      <td>successful</td>\n",
       "      <td>0</td>\n",
       "    </tr>\n",
       "  </tbody>\n",
       "</table>\n",
       "</div>"
      ],
      "text/plain": [
       "   id    created_at    updated_at  company_id  partner_id  consultant_id  \\\n",
       "0   1  1.598956e+18  1.598956e+18         385           4              4   \n",
       "1   2  1.599105e+18  1.599105e+18         390           7              8   \n",
       "2   3  1.599105e+18  1.599105e+18         387           7              8   \n",
       "3   4  1.599105e+18  1.599105e+18         385           7              8   \n",
       "4   5  1.599106e+18  1.599106e+18         331           8              9   \n",
       "\n",
       "       status  is_outbound  \n",
       "0  successful            0  \n",
       "1  successful            0  \n",
       "2  successful            0  \n",
       "3  successful            0  \n",
       "4  successful            0  "
      ]
     },
     "execution_count": 6,
     "metadata": {},
     "output_type": "execute_result"
    }
   ],
   "source": [
    "referrals.head()"
   ]
  },
  {
   "cell_type": "code",
   "execution_count": 8,
   "id": "d706c858-a331-4af0-b4df-80b6ba257a57",
   "metadata": {},
   "outputs": [
    {
     "data": {
      "text/plain": [
       "array(['successful', 'disinterested', 'pending'], dtype=object)"
      ]
     },
     "execution_count": 8,
     "metadata": {},
     "output_type": "execute_result"
    }
   ],
   "source": [
    "referrals.status.unique()"
   ]
  },
  {
   "cell_type": "code",
   "execution_count": 9,
   "id": "8317c1c9-b334-4a8a-94d8-c1a4a3b544ca",
   "metadata": {},
   "outputs": [
    {
     "data": {
      "text/plain": [
       "Index(['id', 'created_at', 'updated_at', 'company_id', 'partner_id',\n",
       "       'consultant_id', 'status', 'is_outbound'],\n",
       "      dtype='object')"
      ]
     },
     "execution_count": 9,
     "metadata": {},
     "output_type": "execute_result"
    }
   ],
   "source": [
    "referrals.columns"
   ]
  },
  {
   "cell_type": "code",
   "execution_count": 10,
   "id": "8bc4b4c6-26ca-4a48-86b6-c0ee8759a1aa",
   "metadata": {},
   "outputs": [
    {
     "name": "stdout",
     "output_type": "stream",
     "text": [
      "<class 'pandas.core.frame.DataFrame'>\n",
      "RangeIndex: 12 entries, 0 to 11\n",
      "Data columns (total 2 columns):\n",
      " #   Column   Non-Null Count  Dtype \n",
      "---  ------   --------------  ----- \n",
      " 0   name     12 non-null     object\n",
      " 1   country  12 non-null     object\n",
      "dtypes: object(2)\n",
      "memory usage: 320.0+ bytes\n"
     ]
    }
   ],
   "source": [
    "# load sales_people\n",
    "sales_people = pd.read_csv('/home/developer/Desktop/testes/tech-tests/GetGround_Analytics_Engineer_Data/sales_people.csv')\n",
    "sales_people.info()"
   ]
  },
  {
   "cell_type": "code",
   "execution_count": 11,
   "id": "e1befc14-40dc-4999-95cf-bb67f37c6ded",
   "metadata": {},
   "outputs": [
    {
     "data": {
      "text/plain": [
       "Index(['name', 'country'], dtype='object')"
      ]
     },
     "execution_count": 11,
     "metadata": {},
     "output_type": "execute_result"
    }
   ],
   "source": [
    "sales_people.columns"
   ]
  },
  {
   "cell_type": "code",
   "execution_count": 12,
   "id": "25ebe3c0-1112-4740-9ec9-a3f1706410fd",
   "metadata": {},
   "outputs": [
    {
     "data": {
      "text/html": [
       "<div>\n",
       "<style scoped>\n",
       "    .dataframe tbody tr th:only-of-type {\n",
       "        vertical-align: middle;\n",
       "    }\n",
       "\n",
       "    .dataframe tbody tr th {\n",
       "        vertical-align: top;\n",
       "    }\n",
       "\n",
       "    .dataframe thead th {\n",
       "        text-align: right;\n",
       "    }\n",
       "</style>\n",
       "<table border=\"1\" class=\"dataframe\">\n",
       "  <thead>\n",
       "    <tr style=\"text-align: right;\">\n",
       "      <th></th>\n",
       "      <th>name</th>\n",
       "      <th>country</th>\n",
       "    </tr>\n",
       "  </thead>\n",
       "  <tbody>\n",
       "    <tr>\n",
       "      <th>0</th>\n",
       "      <td>Orange</td>\n",
       "      <td>Singapore</td>\n",
       "    </tr>\n",
       "    <tr>\n",
       "      <th>1</th>\n",
       "      <td>Apple</td>\n",
       "      <td>Singapore</td>\n",
       "    </tr>\n",
       "    <tr>\n",
       "      <th>2</th>\n",
       "      <td>Lion</td>\n",
       "      <td>HongKong</td>\n",
       "    </tr>\n",
       "    <tr>\n",
       "      <th>3</th>\n",
       "      <td>Tree</td>\n",
       "      <td>HongKong</td>\n",
       "    </tr>\n",
       "    <tr>\n",
       "      <th>4</th>\n",
       "      <td>Root</td>\n",
       "      <td>HongKong</td>\n",
       "    </tr>\n",
       "  </tbody>\n",
       "</table>\n",
       "</div>"
      ],
      "text/plain": [
       "     name    country\n",
       "0  Orange  Singapore\n",
       "1   Apple  Singapore\n",
       "2    Lion   HongKong\n",
       "3    Tree   HongKong\n",
       "4    Root   HongKong"
      ]
     },
     "execution_count": 12,
     "metadata": {},
     "output_type": "execute_result"
    }
   ],
   "source": [
    "sales_people.head()"
   ]
  },
  {
   "cell_type": "code",
   "execution_count": 13,
   "id": "130599c7-1a8a-40bd-bbb6-6b0cc016c428",
   "metadata": {},
   "outputs": [],
   "source": [
    "# Lead_sales people = names"
   ]
  },
  {
   "cell_type": "code",
   "execution_count": 17,
   "id": "b0d28888-9dde-469f-bc3e-d3a7ba2b58d2",
   "metadata": {},
   "outputs": [
    {
     "data": {
      "text/plain": [
       "['Apple',\n",
       " 'Cloud',\n",
       " 'Daisy',\n",
       " 'Fig',\n",
       " 'Horiz',\n",
       " 'Leaf',\n",
       " 'Lion',\n",
       " 'Orange',\n",
       " 'Root',\n",
       " 'Sky',\n",
       " 'Tree',\n",
       " 'Tulip']"
      ]
     },
     "execution_count": 17,
     "metadata": {},
     "output_type": "execute_result"
    }
   ],
   "source": [
    "list1 = list(sales_people.name.unique())\n",
    "list1.sort()\n",
    "list1"
   ]
  },
  {
   "cell_type": "code",
   "execution_count": 18,
   "id": "b4f3b0ae-5595-4b38-9ed7-242c9ba2bcb1",
   "metadata": {},
   "outputs": [
    {
     "data": {
      "text/plain": [
       "['0',\n",
       " 'Apple',\n",
       " 'Cloud',\n",
       " 'Daisy',\n",
       " 'Fig',\n",
       " 'Horiz',\n",
       " 'Leaf',\n",
       " 'Lion',\n",
       " 'Potato',\n",
       " 'Root',\n",
       " 'Sky',\n",
       " 'Tree',\n",
       " 'Tulip']"
      ]
     },
     "execution_count": 18,
     "metadata": {},
     "output_type": "execute_result"
    }
   ],
   "source": [
    "list2 = list(partners.lead_sales_contact.unique())\n",
    "list2.sort()\n",
    "list2\n",
    "\n",
    "# temos 0"
   ]
  },
  {
   "cell_type": "code",
   "execution_count": 22,
   "id": "1a8fbcc0-f320-4fe2-b462-1b7a5fb6ef4a",
   "metadata": {},
   "outputs": [
    {
     "data": {
      "text/plain": [
       "{'Orange'}"
      ]
     },
     "execution_count": 22,
     "metadata": {},
     "output_type": "execute_result"
    }
   ],
   "source": [
    "diff = set(list1) - set(list2)\n",
    "diff"
   ]
  },
  {
   "cell_type": "code",
   "execution_count": 23,
   "id": "7fba44e7-7414-42cd-a07b-8add73e0f2fe",
   "metadata": {},
   "outputs": [
    {
     "data": {
      "text/plain": [
       "{'0', 'Potato'}"
      ]
     },
     "execution_count": 23,
     "metadata": {},
     "output_type": "execute_result"
    }
   ],
   "source": [
    "diff = set(list2) - set(list1)\n",
    "diff"
   ]
  },
  {
   "cell_type": "code",
   "execution_count": null,
   "id": "d14d49d6-1b2b-4037-9585-2ee7e6859cbb",
   "metadata": {},
   "outputs": [],
   "source": [
    "# nao temos orange, 0 e potato"
   ]
  }
 ],
 "metadata": {
  "kernelspec": {
   "display_name": "Python 3 (ipykernel)",
   "language": "python",
   "name": "python3"
  },
  "language_info": {
   "codemirror_mode": {
    "name": "ipython",
    "version": 3
   },
   "file_extension": ".py",
   "mimetype": "text/x-python",
   "name": "python",
   "nbconvert_exporter": "python",
   "pygments_lexer": "ipython3",
   "version": "3.10.5"
  }
 },
 "nbformat": 4,
 "nbformat_minor": 5
}
