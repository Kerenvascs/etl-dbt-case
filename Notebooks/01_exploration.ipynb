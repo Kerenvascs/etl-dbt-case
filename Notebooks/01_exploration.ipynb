{
 "cells": [
  {
   "cell_type": "markdown",
   "id": "3dbe264d-bbc5-4bee-91d0-2daee16c9bfa",
   "metadata": {},
   "source": [
    "# GetGround Data Task"
   ]
  },
  {
   "cell_type": "markdown",
   "id": "e3baeb69-35df-40a2-aef3-334c8f262b03",
   "metadata": {},
   "source": [
    "## Goal: \n",
    "- to insert this data into a SQL database on your local machine; \n",
    "- run some SQL queries and analysis; \n",
    "- document, explain and visualize your response to the questions asked."
   ]
  },
  {
   "cell_type": "markdown",
   "id": "c06033b8-6140-4378-9d63-3f6bfb34a8b7",
   "metadata": {},
   "source": [
    "## Workflow:\n",
    "\n",
    "- 1. Understand the data\n",
    "- 2. Load raw data (csvs) into postgres \n",
    "- 3. Install dbt and connect to postgres ( Docker ?)\n",
    "- 4. Create models\n",
    "- 4. Analyze the data\n",
    "- 5. Report"
   ]
  },
  {
   "cell_type": "markdown",
   "id": "b3f93f8b-d569-4f95-892b-924acf417436",
   "metadata": {},
   "source": [
    "## Imports and setting"
   ]
  },
  {
   "cell_type": "code",
   "execution_count": 1,
   "id": "799aa150-9cfd-4625-9a19-40d7a52168b2",
   "metadata": {},
   "outputs": [],
   "source": [
    "import pandas as pd\n",
    "import numpy as np\n",
    "import datetime\n",
    "\n",
    "pd.set_option('display.max_rows', None)\n",
    "pd.set_option('display.max_columns', None)"
   ]
  },
  {
   "cell_type": "code",
   "execution_count": 2,
   "id": "f01be85a-4e31-4350-84e2-35233d0b4100",
   "metadata": {},
   "outputs": [
    {
     "name": "stdout",
     "output_type": "stream",
     "text": [
      "<class 'pandas.core.frame.DataFrame'>\n",
      "RangeIndex: 522 entries, 0 to 521\n",
      "Data columns (total 5 columns):\n",
      " #   Column              Non-Null Count  Dtype  \n",
      "---  ------              --------------  -----  \n",
      " 0   id                  522 non-null    int64  \n",
      " 1   created_at          522 non-null    float64\n",
      " 2   updated_at          522 non-null    float64\n",
      " 3   partner_type        522 non-null    object \n",
      " 4   lead_sales_contact  522 non-null    object \n",
      "dtypes: float64(2), int64(1), object(2)\n",
      "memory usage: 20.5+ KB\n"
     ]
    }
   ],
   "source": [
    "# load partners\n",
    "partners = pd.read_csv('/home/developer/Desktop/testes/tech-tests/GetGround_Analytics_Engineer_Data/partners.csv')\n",
    "partners.info()"
   ]
  },
  {
   "cell_type": "code",
   "execution_count": 3,
   "id": "a5699566-b469-48e2-9945-7748a9129d0d",
   "metadata": {},
   "outputs": [
    {
     "data": {
      "text/html": [
       "<div>\n",
       "<style scoped>\n",
       "    .dataframe tbody tr th:only-of-type {\n",
       "        vertical-align: middle;\n",
       "    }\n",
       "\n",
       "    .dataframe tbody tr th {\n",
       "        vertical-align: top;\n",
       "    }\n",
       "\n",
       "    .dataframe thead th {\n",
       "        text-align: right;\n",
       "    }\n",
       "</style>\n",
       "<table border=\"1\" class=\"dataframe\">\n",
       "  <thead>\n",
       "    <tr style=\"text-align: right;\">\n",
       "      <th></th>\n",
       "      <th>id</th>\n",
       "      <th>created_at</th>\n",
       "      <th>updated_at</th>\n",
       "      <th>partner_type</th>\n",
       "      <th>lead_sales_contact</th>\n",
       "    </tr>\n",
       "  </thead>\n",
       "  <tbody>\n",
       "    <tr>\n",
       "      <th>0</th>\n",
       "      <td>2</td>\n",
       "      <td>1.598856e+18</td>\n",
       "      <td>1.607047e+18</td>\n",
       "      <td>Agent</td>\n",
       "      <td>Potato</td>\n",
       "    </tr>\n",
       "    <tr>\n",
       "      <th>1</th>\n",
       "      <td>3</td>\n",
       "      <td>1.598859e+18</td>\n",
       "      <td>1.618882e+18</td>\n",
       "      <td>Agent</td>\n",
       "      <td>Lion</td>\n",
       "    </tr>\n",
       "    <tr>\n",
       "      <th>2</th>\n",
       "      <td>4</td>\n",
       "      <td>1.598859e+18</td>\n",
       "      <td>1.616642e+18</td>\n",
       "      <td>Agent</td>\n",
       "      <td>Potato</td>\n",
       "    </tr>\n",
       "    <tr>\n",
       "      <th>3</th>\n",
       "      <td>5</td>\n",
       "      <td>1.598860e+18</td>\n",
       "      <td>1.607331e+18</td>\n",
       "      <td>Agent</td>\n",
       "      <td>Lion</td>\n",
       "    </tr>\n",
       "    <tr>\n",
       "      <th>4</th>\n",
       "      <td>6</td>\n",
       "      <td>1.598866e+18</td>\n",
       "      <td>1.609743e+18</td>\n",
       "      <td>Agent</td>\n",
       "      <td>Potato</td>\n",
       "    </tr>\n",
       "  </tbody>\n",
       "</table>\n",
       "</div>"
      ],
      "text/plain": [
       "   id    created_at    updated_at partner_type lead_sales_contact\n",
       "0   2  1.598856e+18  1.607047e+18        Agent             Potato\n",
       "1   3  1.598859e+18  1.618882e+18        Agent               Lion\n",
       "2   4  1.598859e+18  1.616642e+18        Agent             Potato\n",
       "3   5  1.598860e+18  1.607331e+18        Agent               Lion\n",
       "4   6  1.598866e+18  1.609743e+18        Agent             Potato"
      ]
     },
     "execution_count": 3,
     "metadata": {},
     "output_type": "execute_result"
    }
   ],
   "source": [
    "partners.head()"
   ]
  },
  {
   "cell_type": "code",
   "execution_count": 4,
   "id": "fce526b4-8d53-4997-b498-fdc3da940965",
   "metadata": {},
   "outputs": [
    {
     "name": "stdout",
     "output_type": "stream",
     "text": [
      "<class 'pandas.core.frame.DataFrame'>\n",
      "RangeIndex: 1470 entries, 0 to 1469\n",
      "Data columns (total 8 columns):\n",
      " #   Column         Non-Null Count  Dtype  \n",
      "---  ------         --------------  -----  \n",
      " 0   id             1470 non-null   int64  \n",
      " 1   created_at     1470 non-null   float64\n",
      " 2   updated_at     1470 non-null   float64\n",
      " 3   company_id     1470 non-null   int64  \n",
      " 4   partner_id     1470 non-null   int64  \n",
      " 5   consultant_id  1470 non-null   int64  \n",
      " 6   status         1470 non-null   object \n",
      " 7   is_outbound    1470 non-null   int64  \n",
      "dtypes: float64(2), int64(5), object(1)\n",
      "memory usage: 92.0+ KB\n"
     ]
    }
   ],
   "source": [
    "# load referrals\n",
    "referrals = pd.read_csv('/home/developer/Desktop/testes/tech-tests/GetGround_Analytics_Engineer_Data/referrals.csv')\n",
    "referrals.info()"
   ]
  },
  {
   "cell_type": "code",
   "execution_count": 6,
   "id": "0290f03d-9353-4bf3-9ef4-48fecad66bdc",
   "metadata": {},
   "outputs": [
    {
     "data": {
      "text/html": [
       "<div>\n",
       "<style scoped>\n",
       "    .dataframe tbody tr th:only-of-type {\n",
       "        vertical-align: middle;\n",
       "    }\n",
       "\n",
       "    .dataframe tbody tr th {\n",
       "        vertical-align: top;\n",
       "    }\n",
       "\n",
       "    .dataframe thead th {\n",
       "        text-align: right;\n",
       "    }\n",
       "</style>\n",
       "<table border=\"1\" class=\"dataframe\">\n",
       "  <thead>\n",
       "    <tr style=\"text-align: right;\">\n",
       "      <th></th>\n",
       "      <th>id</th>\n",
       "      <th>created_at</th>\n",
       "      <th>updated_at</th>\n",
       "      <th>company_id</th>\n",
       "      <th>partner_id</th>\n",
       "      <th>consultant_id</th>\n",
       "      <th>status</th>\n",
       "      <th>is_outbound</th>\n",
       "    </tr>\n",
       "  </thead>\n",
       "  <tbody>\n",
       "    <tr>\n",
       "      <th>0</th>\n",
       "      <td>1</td>\n",
       "      <td>1.598956e+18</td>\n",
       "      <td>1.598956e+18</td>\n",
       "      <td>385</td>\n",
       "      <td>4</td>\n",
       "      <td>4</td>\n",
       "      <td>successful</td>\n",
       "      <td>0</td>\n",
       "    </tr>\n",
       "    <tr>\n",
       "      <th>1</th>\n",
       "      <td>2</td>\n",
       "      <td>1.599105e+18</td>\n",
       "      <td>1.599105e+18</td>\n",
       "      <td>390</td>\n",
       "      <td>7</td>\n",
       "      <td>8</td>\n",
       "      <td>successful</td>\n",
       "      <td>0</td>\n",
       "    </tr>\n",
       "    <tr>\n",
       "      <th>2</th>\n",
       "      <td>3</td>\n",
       "      <td>1.599105e+18</td>\n",
       "      <td>1.599105e+18</td>\n",
       "      <td>387</td>\n",
       "      <td>7</td>\n",
       "      <td>8</td>\n",
       "      <td>successful</td>\n",
       "      <td>0</td>\n",
       "    </tr>\n",
       "    <tr>\n",
       "      <th>3</th>\n",
       "      <td>4</td>\n",
       "      <td>1.599105e+18</td>\n",
       "      <td>1.599105e+18</td>\n",
       "      <td>385</td>\n",
       "      <td>7</td>\n",
       "      <td>8</td>\n",
       "      <td>successful</td>\n",
       "      <td>0</td>\n",
       "    </tr>\n",
       "    <tr>\n",
       "      <th>4</th>\n",
       "      <td>5</td>\n",
       "      <td>1.599106e+18</td>\n",
       "      <td>1.599106e+18</td>\n",
       "      <td>331</td>\n",
       "      <td>8</td>\n",
       "      <td>9</td>\n",
       "      <td>successful</td>\n",
       "      <td>0</td>\n",
       "    </tr>\n",
       "  </tbody>\n",
       "</table>\n",
       "</div>"
      ],
      "text/plain": [
       "   id    created_at    updated_at  company_id  partner_id  consultant_id  \\\n",
       "0   1  1.598956e+18  1.598956e+18         385           4              4   \n",
       "1   2  1.599105e+18  1.599105e+18         390           7              8   \n",
       "2   3  1.599105e+18  1.599105e+18         387           7              8   \n",
       "3   4  1.599105e+18  1.599105e+18         385           7              8   \n",
       "4   5  1.599106e+18  1.599106e+18         331           8              9   \n",
       "\n",
       "       status  is_outbound  \n",
       "0  successful            0  \n",
       "1  successful            0  \n",
       "2  successful            0  \n",
       "3  successful            0  \n",
       "4  successful            0  "
      ]
     },
     "execution_count": 6,
     "metadata": {},
     "output_type": "execute_result"
    }
   ],
   "source": [
    "referrals.head()"
   ]
  },
  {
   "cell_type": "code",
   "execution_count": 8,
   "id": "d706c858-a331-4af0-b4df-80b6ba257a57",
   "metadata": {},
   "outputs": [
    {
     "data": {
      "text/plain": [
       "array(['successful', 'disinterested', 'pending'], dtype=object)"
      ]
     },
     "execution_count": 8,
     "metadata": {},
     "output_type": "execute_result"
    }
   ],
   "source": [
    "referrals.status.unique()"
   ]
  },
  {
   "cell_type": "code",
   "execution_count": 9,
   "id": "8317c1c9-b334-4a8a-94d8-c1a4a3b544ca",
   "metadata": {},
   "outputs": [
    {
     "data": {
      "text/plain": [
       "Index(['id', 'created_at', 'updated_at', 'company_id', 'partner_id',\n",
       "       'consultant_id', 'status', 'is_outbound'],\n",
       "      dtype='object')"
      ]
     },
     "execution_count": 9,
     "metadata": {},
     "output_type": "execute_result"
    }
   ],
   "source": [
    "referrals.columns"
   ]
  },
  {
   "cell_type": "code",
   "execution_count": 10,
   "id": "8bc4b4c6-26ca-4a48-86b6-c0ee8759a1aa",
   "metadata": {},
   "outputs": [
    {
     "name": "stdout",
     "output_type": "stream",
     "text": [
      "<class 'pandas.core.frame.DataFrame'>\n",
      "RangeIndex: 12 entries, 0 to 11\n",
      "Data columns (total 2 columns):\n",
      " #   Column   Non-Null Count  Dtype \n",
      "---  ------   --------------  ----- \n",
      " 0   name     12 non-null     object\n",
      " 1   country  12 non-null     object\n",
      "dtypes: object(2)\n",
      "memory usage: 320.0+ bytes\n"
     ]
    }
   ],
   "source": [
    "# load sales_people\n",
    "sales_people = pd.read_csv('/home/developer/Desktop/testes/tech-tests/GetGround_Analytics_Engineer_Data/sales_people.csv')\n",
    "sales_people.info()"
   ]
  },
  {
   "cell_type": "code",
   "execution_count": 11,
   "id": "e1befc14-40dc-4999-95cf-bb67f37c6ded",
   "metadata": {},
   "outputs": [
    {
     "data": {
      "text/plain": [
       "Index(['name', 'country'], dtype='object')"
      ]
     },
     "execution_count": 11,
     "metadata": {},
     "output_type": "execute_result"
    }
   ],
   "source": [
    "sales_people.columns"
   ]
  },
  {
   "cell_type": "code",
   "execution_count": 49,
   "id": "25ebe3c0-1112-4740-9ec9-a3f1706410fd",
   "metadata": {},
   "outputs": [
    {
     "data": {
      "text/html": [
       "<div>\n",
       "<style scoped>\n",
       "    .dataframe tbody tr th:only-of-type {\n",
       "        vertical-align: middle;\n",
       "    }\n",
       "\n",
       "    .dataframe tbody tr th {\n",
       "        vertical-align: top;\n",
       "    }\n",
       "\n",
       "    .dataframe thead th {\n",
       "        text-align: right;\n",
       "    }\n",
       "</style>\n",
       "<table border=\"1\" class=\"dataframe\">\n",
       "  <thead>\n",
       "    <tr style=\"text-align: right;\">\n",
       "      <th></th>\n",
       "      <th>name</th>\n",
       "      <th>country</th>\n",
       "    </tr>\n",
       "  </thead>\n",
       "  <tbody>\n",
       "    <tr>\n",
       "      <th>0</th>\n",
       "      <td>Orange</td>\n",
       "      <td>Singapore</td>\n",
       "    </tr>\n",
       "    <tr>\n",
       "      <th>1</th>\n",
       "      <td>Apple</td>\n",
       "      <td>Singapore</td>\n",
       "    </tr>\n",
       "    <tr>\n",
       "      <th>2</th>\n",
       "      <td>Lion</td>\n",
       "      <td>HongKong</td>\n",
       "    </tr>\n",
       "    <tr>\n",
       "      <th>3</th>\n",
       "      <td>Tree</td>\n",
       "      <td>HongKong</td>\n",
       "    </tr>\n",
       "    <tr>\n",
       "      <th>4</th>\n",
       "      <td>Root</td>\n",
       "      <td>HongKong</td>\n",
       "    </tr>\n",
       "  </tbody>\n",
       "</table>\n",
       "</div>"
      ],
      "text/plain": [
       "     name    country\n",
       "0  Orange  Singapore\n",
       "1   Apple  Singapore\n",
       "2    Lion   HongKong\n",
       "3    Tree   HongKong\n",
       "4    Root   HongKong"
      ]
     },
     "execution_count": 49,
     "metadata": {},
     "output_type": "execute_result"
    }
   ],
   "source": [
    "sales_people.head()"
   ]
  },
  {
   "cell_type": "code",
   "execution_count": 51,
   "id": "7198d418-5276-4cfd-a40c-9520d391e8bb",
   "metadata": {},
   "outputs": [
    {
     "data": {
      "text/plain": [
       "array(['Orange', 'Apple', 'Lion', 'Tree', 'Root', 'Sky', 'Cloud', 'Horiz',\n",
       "       'Leaf', 'Daisy', 'Tulip', 'Fig'], dtype=object)"
      ]
     },
     "execution_count": 51,
     "metadata": {},
     "output_type": "execute_result"
    }
   ],
   "source": [
    "sales_people.name.unique()"
   ]
  },
  {
   "cell_type": "code",
   "execution_count": 52,
   "id": "2589942b-f4ce-4530-9bb2-4af470869bfb",
   "metadata": {},
   "outputs": [
    {
     "data": {
      "text/plain": [
       "array(['Singapore', 'HongKong', 'UK'], dtype=object)"
      ]
     },
     "execution_count": 52,
     "metadata": {},
     "output_type": "execute_result"
    }
   ],
   "source": [
    "sales_people.country.unique()"
   ]
  },
  {
   "cell_type": "code",
   "execution_count": 13,
   "id": "130599c7-1a8a-40bd-bbb6-6b0cc016c428",
   "metadata": {},
   "outputs": [],
   "source": [
    "# Lead_sales people = names"
   ]
  },
  {
   "cell_type": "code",
   "execution_count": 17,
   "id": "b0d28888-9dde-469f-bc3e-d3a7ba2b58d2",
   "metadata": {},
   "outputs": [
    {
     "data": {
      "text/plain": [
       "['Apple',\n",
       " 'Cloud',\n",
       " 'Daisy',\n",
       " 'Fig',\n",
       " 'Horiz',\n",
       " 'Leaf',\n",
       " 'Lion',\n",
       " 'Orange',\n",
       " 'Root',\n",
       " 'Sky',\n",
       " 'Tree',\n",
       " 'Tulip']"
      ]
     },
     "execution_count": 17,
     "metadata": {},
     "output_type": "execute_result"
    }
   ],
   "source": [
    "list1 = list(sales_people.name.unique())\n",
    "list1.sort()\n",
    "list1"
   ]
  },
  {
   "cell_type": "code",
   "execution_count": 18,
   "id": "b4f3b0ae-5595-4b38-9ed7-242c9ba2bcb1",
   "metadata": {},
   "outputs": [
    {
     "data": {
      "text/plain": [
       "['0',\n",
       " 'Apple',\n",
       " 'Cloud',\n",
       " 'Daisy',\n",
       " 'Fig',\n",
       " 'Horiz',\n",
       " 'Leaf',\n",
       " 'Lion',\n",
       " 'Potato',\n",
       " 'Root',\n",
       " 'Sky',\n",
       " 'Tree',\n",
       " 'Tulip']"
      ]
     },
     "execution_count": 18,
     "metadata": {},
     "output_type": "execute_result"
    }
   ],
   "source": [
    "list2 = list(partners.lead_sales_contact.unique())\n",
    "list2.sort()\n",
    "list2\n",
    "\n",
    "# temos 0"
   ]
  },
  {
   "cell_type": "code",
   "execution_count": 22,
   "id": "1a8fbcc0-f320-4fe2-b462-1b7a5fb6ef4a",
   "metadata": {},
   "outputs": [
    {
     "data": {
      "text/plain": [
       "{'Orange'}"
      ]
     },
     "execution_count": 22,
     "metadata": {},
     "output_type": "execute_result"
    }
   ],
   "source": [
    "diff = set(list1) - set(list2)\n",
    "diff"
   ]
  },
  {
   "cell_type": "code",
   "execution_count": 23,
   "id": "7fba44e7-7414-42cd-a07b-8add73e0f2fe",
   "metadata": {},
   "outputs": [
    {
     "data": {
      "text/plain": [
       "{'0', 'Potato'}"
      ]
     },
     "execution_count": 23,
     "metadata": {},
     "output_type": "execute_result"
    }
   ],
   "source": [
    "diff = set(list2) - set(list1)\n",
    "diff"
   ]
  },
  {
   "cell_type": "code",
   "execution_count": 24,
   "id": "d14d49d6-1b2b-4037-9585-2ee7e6859cbb",
   "metadata": {},
   "outputs": [],
   "source": [
    "# nao temos orange, 0 e potato"
   ]
  },
  {
   "cell_type": "code",
   "execution_count": 25,
   "id": "02adcdf0-f581-4dc5-ae6a-5ccf9ac96f64",
   "metadata": {},
   "outputs": [
    {
     "data": {
      "text/plain": [
       "id                    0\n",
       "created_at            0\n",
       "updated_at            0\n",
       "partner_type          0\n",
       "lead_sales_contact    0\n",
       "dtype: int64"
      ]
     },
     "execution_count": 25,
     "metadata": {},
     "output_type": "execute_result"
    }
   ],
   "source": [
    "partners.isnull().sum()"
   ]
  },
  {
   "cell_type": "code",
   "execution_count": 29,
   "id": "c8d1da1e-ec75-42ff-9017-68dcc80cac2b",
   "metadata": {},
   "outputs": [
    {
     "data": {
      "text/html": [
       "<div>\n",
       "<style scoped>\n",
       "    .dataframe tbody tr th:only-of-type {\n",
       "        vertical-align: middle;\n",
       "    }\n",
       "\n",
       "    .dataframe tbody tr th {\n",
       "        vertical-align: top;\n",
       "    }\n",
       "\n",
       "    .dataframe thead th {\n",
       "        text-align: right;\n",
       "    }\n",
       "</style>\n",
       "<table border=\"1\" class=\"dataframe\">\n",
       "  <thead>\n",
       "    <tr style=\"text-align: right;\">\n",
       "      <th></th>\n",
       "      <th>id</th>\n",
       "      <th>created_at</th>\n",
       "      <th>updated_at</th>\n",
       "      <th>partner_type</th>\n",
       "      <th>lead_sales_contact</th>\n",
       "    </tr>\n",
       "  </thead>\n",
       "  <tbody>\n",
       "  </tbody>\n",
       "</table>\n",
       "</div>"
      ],
      "text/plain": [
       "Empty DataFrame\n",
       "Columns: [id, created_at, updated_at, partner_type, lead_sales_contact]\n",
       "Index: []"
      ]
     },
     "execution_count": 29,
     "metadata": {},
     "output_type": "execute_result"
    }
   ],
   "source": [
    "partners[partners['created_at']==0]"
   ]
  },
  {
   "cell_type": "code",
   "execution_count": 30,
   "id": "22b24c1a-e1d8-49d4-bb01-b9dba0e79e2b",
   "metadata": {},
   "outputs": [
    {
     "data": {
      "text/html": [
       "<div>\n",
       "<style scoped>\n",
       "    .dataframe tbody tr th:only-of-type {\n",
       "        vertical-align: middle;\n",
       "    }\n",
       "\n",
       "    .dataframe tbody tr th {\n",
       "        vertical-align: top;\n",
       "    }\n",
       "\n",
       "    .dataframe thead th {\n",
       "        text-align: right;\n",
       "    }\n",
       "</style>\n",
       "<table border=\"1\" class=\"dataframe\">\n",
       "  <thead>\n",
       "    <tr style=\"text-align: right;\">\n",
       "      <th></th>\n",
       "      <th>id</th>\n",
       "      <th>created_at</th>\n",
       "      <th>updated_at</th>\n",
       "      <th>partner_type</th>\n",
       "      <th>lead_sales_contact</th>\n",
       "    </tr>\n",
       "  </thead>\n",
       "  <tbody>\n",
       "  </tbody>\n",
       "</table>\n",
       "</div>"
      ],
      "text/plain": [
       "Empty DataFrame\n",
       "Columns: [id, created_at, updated_at, partner_type, lead_sales_contact]\n",
       "Index: []"
      ]
     },
     "execution_count": 30,
     "metadata": {},
     "output_type": "execute_result"
    }
   ],
   "source": [
    "partners[partners['updated_at']==0]"
   ]
  },
  {
   "cell_type": "code",
   "execution_count": 31,
   "id": "e520c917-a199-4b9d-af22-a105ec68cf39",
   "metadata": {},
   "outputs": [
    {
     "data": {
      "text/html": [
       "<div>\n",
       "<style scoped>\n",
       "    .dataframe tbody tr th:only-of-type {\n",
       "        vertical-align: middle;\n",
       "    }\n",
       "\n",
       "    .dataframe tbody tr th {\n",
       "        vertical-align: top;\n",
       "    }\n",
       "\n",
       "    .dataframe thead th {\n",
       "        text-align: right;\n",
       "    }\n",
       "</style>\n",
       "<table border=\"1\" class=\"dataframe\">\n",
       "  <thead>\n",
       "    <tr style=\"text-align: right;\">\n",
       "      <th></th>\n",
       "      <th>id</th>\n",
       "      <th>created_at</th>\n",
       "      <th>updated_at</th>\n",
       "      <th>company_id</th>\n",
       "      <th>partner_id</th>\n",
       "      <th>consultant_id</th>\n",
       "      <th>status</th>\n",
       "      <th>is_outbound</th>\n",
       "    </tr>\n",
       "  </thead>\n",
       "  <tbody>\n",
       "  </tbody>\n",
       "</table>\n",
       "</div>"
      ],
      "text/plain": [
       "Empty DataFrame\n",
       "Columns: [id, created_at, updated_at, company_id, partner_id, consultant_id, status, is_outbound]\n",
       "Index: []"
      ]
     },
     "execution_count": 31,
     "metadata": {},
     "output_type": "execute_result"
    }
   ],
   "source": [
    "referrals[referrals['created_at']==0]"
   ]
  },
  {
   "cell_type": "code",
   "execution_count": 32,
   "id": "b281bf76-5db6-46a4-aea1-22e1ed5aabc9",
   "metadata": {},
   "outputs": [
    {
     "data": {
      "text/html": [
       "<div>\n",
       "<style scoped>\n",
       "    .dataframe tbody tr th:only-of-type {\n",
       "        vertical-align: middle;\n",
       "    }\n",
       "\n",
       "    .dataframe tbody tr th {\n",
       "        vertical-align: top;\n",
       "    }\n",
       "\n",
       "    .dataframe thead th {\n",
       "        text-align: right;\n",
       "    }\n",
       "</style>\n",
       "<table border=\"1\" class=\"dataframe\">\n",
       "  <thead>\n",
       "    <tr style=\"text-align: right;\">\n",
       "      <th></th>\n",
       "      <th>id</th>\n",
       "      <th>created_at</th>\n",
       "      <th>updated_at</th>\n",
       "      <th>company_id</th>\n",
       "      <th>partner_id</th>\n",
       "      <th>consultant_id</th>\n",
       "      <th>status</th>\n",
       "      <th>is_outbound</th>\n",
       "    </tr>\n",
       "  </thead>\n",
       "  <tbody>\n",
       "  </tbody>\n",
       "</table>\n",
       "</div>"
      ],
      "text/plain": [
       "Empty DataFrame\n",
       "Columns: [id, created_at, updated_at, company_id, partner_id, consultant_id, status, is_outbound]\n",
       "Index: []"
      ]
     },
     "execution_count": 32,
     "metadata": {},
     "output_type": "execute_result"
    }
   ],
   "source": [
    "referrals[referrals['updated_at']==0]"
   ]
  },
  {
   "cell_type": "code",
   "execution_count": 33,
   "id": "9571d686-995f-4f11-a0d7-4de3792cb36a",
   "metadata": {},
   "outputs": [
    {
     "data": {
      "text/plain": [
       "(1470, 8)"
      ]
     },
     "execution_count": 33,
     "metadata": {},
     "output_type": "execute_result"
    }
   ],
   "source": [
    "referrals.shape"
   ]
  },
  {
   "cell_type": "code",
   "execution_count": 34,
   "id": "c5ab7d8b-89c0-420f-8110-a2f631d449b5",
   "metadata": {},
   "outputs": [
    {
     "data": {
      "text/plain": [
       "(522, 5)"
      ]
     },
     "execution_count": 34,
     "metadata": {},
     "output_type": "execute_result"
    }
   ],
   "source": [
    "partners.shape"
   ]
  },
  {
   "cell_type": "code",
   "execution_count": 35,
   "id": "c095d276-dff7-4d55-8801-7869b56bae0b",
   "metadata": {},
   "outputs": [
    {
     "data": {
      "text/plain": [
       "1470"
      ]
     },
     "execution_count": 35,
     "metadata": {},
     "output_type": "execute_result"
    }
   ],
   "source": [
    "len(referrals.id.unique())"
   ]
  },
  {
   "cell_type": "code",
   "execution_count": 36,
   "id": "454a0e4b-21c3-47f2-bb19-b8d0fb152c04",
   "metadata": {},
   "outputs": [
    {
     "data": {
      "text/plain": [
       "522"
      ]
     },
     "execution_count": 36,
     "metadata": {},
     "output_type": "execute_result"
    }
   ],
   "source": [
    "len(partners.id.unique())"
   ]
  },
  {
   "cell_type": "code",
   "execution_count": 39,
   "id": "8d727caf-ac4f-4b6a-b726-d8f8d458bf51",
   "metadata": {},
   "outputs": [
    {
     "data": {
      "text/plain": [
       "id                      int64\n",
       "created_at            float64\n",
       "updated_at            float64\n",
       "partner_type           object\n",
       "lead_sales_contact     object\n",
       "dtype: object"
      ]
     },
     "execution_count": 39,
     "metadata": {},
     "output_type": "execute_result"
    }
   ],
   "source": [
    "partners.dtypes"
   ]
  },
  {
   "cell_type": "code",
   "execution_count": 42,
   "id": "80799914-67d2-4ee2-ab46-80c8dcc8b60c",
   "metadata": {},
   "outputs": [
    {
     "data": {
      "text/plain": [
       "Timestamp('2020-08-31 06:47:46.322480128')"
      ]
     },
     "execution_count": 42,
     "metadata": {},
     "output_type": "execute_result"
    }
   ],
   "source": [
    "# check dates\n",
    "partner_corrected = partners.astype({'created_at':'datetime64[ns]', 'updated_at': 'datetime64[ns]'})\n",
    "partner_corrected.created_at.min()"
   ]
  },
  {
   "cell_type": "code",
   "execution_count": 44,
   "id": "ccd1b565-646d-4de4-a83f-c6de11f23ead",
   "metadata": {},
   "outputs": [
    {
     "data": {
      "text/html": [
       "<div>\n",
       "<style scoped>\n",
       "    .dataframe tbody tr th:only-of-type {\n",
       "        vertical-align: middle;\n",
       "    }\n",
       "\n",
       "    .dataframe tbody tr th {\n",
       "        vertical-align: top;\n",
       "    }\n",
       "\n",
       "    .dataframe thead th {\n",
       "        text-align: right;\n",
       "    }\n",
       "</style>\n",
       "<table border=\"1\" class=\"dataframe\">\n",
       "  <thead>\n",
       "    <tr style=\"text-align: right;\">\n",
       "      <th></th>\n",
       "      <th>id</th>\n",
       "      <th>created_at</th>\n",
       "      <th>updated_at</th>\n",
       "      <th>partner_type</th>\n",
       "      <th>lead_sales_contact</th>\n",
       "      <th>created_at_len</th>\n",
       "    </tr>\n",
       "  </thead>\n",
       "  <tbody>\n",
       "    <tr>\n",
       "      <th>0</th>\n",
       "      <td>2</td>\n",
       "      <td>1.598856e+18</td>\n",
       "      <td>1.607047e+18</td>\n",
       "      <td>Agent</td>\n",
       "      <td>Potato</td>\n",
       "      <td>20</td>\n",
       "    </tr>\n",
       "    <tr>\n",
       "      <th>1</th>\n",
       "      <td>3</td>\n",
       "      <td>1.598859e+18</td>\n",
       "      <td>1.618882e+18</td>\n",
       "      <td>Agent</td>\n",
       "      <td>Lion</td>\n",
       "      <td>20</td>\n",
       "    </tr>\n",
       "    <tr>\n",
       "      <th>2</th>\n",
       "      <td>4</td>\n",
       "      <td>1.598859e+18</td>\n",
       "      <td>1.616642e+18</td>\n",
       "      <td>Agent</td>\n",
       "      <td>Potato</td>\n",
       "      <td>20</td>\n",
       "    </tr>\n",
       "    <tr>\n",
       "      <th>3</th>\n",
       "      <td>5</td>\n",
       "      <td>1.598860e+18</td>\n",
       "      <td>1.607331e+18</td>\n",
       "      <td>Agent</td>\n",
       "      <td>Lion</td>\n",
       "      <td>20</td>\n",
       "    </tr>\n",
       "    <tr>\n",
       "      <th>4</th>\n",
       "      <td>6</td>\n",
       "      <td>1.598866e+18</td>\n",
       "      <td>1.609743e+18</td>\n",
       "      <td>Agent</td>\n",
       "      <td>Potato</td>\n",
       "      <td>20</td>\n",
       "    </tr>\n",
       "  </tbody>\n",
       "</table>\n",
       "</div>"
      ],
      "text/plain": [
       "   id    created_at    updated_at partner_type lead_sales_contact  \\\n",
       "0   2  1.598856e+18  1.607047e+18        Agent             Potato   \n",
       "1   3  1.598859e+18  1.618882e+18        Agent               Lion   \n",
       "2   4  1.598859e+18  1.616642e+18        Agent             Potato   \n",
       "3   5  1.598860e+18  1.607331e+18        Agent               Lion   \n",
       "4   6  1.598866e+18  1.609743e+18        Agent             Potato   \n",
       "\n",
       "   created_at_len  \n",
       "0              20  \n",
       "1              20  \n",
       "2              20  \n",
       "3              20  \n",
       "4              20  "
      ]
     },
     "execution_count": 44,
     "metadata": {},
     "output_type": "execute_result"
    }
   ],
   "source": [
    "partners['created_at_len'] = partners['created_at'].astype(str).map(len)\n",
    "partners.head()"
   ]
  },
  {
   "cell_type": "code",
   "execution_count": 45,
   "id": "48f35700-f4e3-49ff-931a-4de1b8ff8074",
   "metadata": {},
   "outputs": [
    {
     "data": {
      "text/plain": [
       "array([20, 19, 17, 18])"
      ]
     },
     "execution_count": 45,
     "metadata": {},
     "output_type": "execute_result"
    }
   ],
   "source": [
    "partners.created_at_len.unique()"
   ]
  },
  {
   "cell_type": "code",
   "execution_count": 46,
   "id": "6bbd09b3-8025-4e79-a406-e8220a17059a",
   "metadata": {},
   "outputs": [
    {
     "data": {
      "text/plain": [
       "array([  2,   3,   4,   5,   6,   7,   8,   9,  10,  11,  12,  13,  14,\n",
       "        15,  16,  17,  18,  19,  20,  21,  22,  23,  24,  25,  26,  27,\n",
       "        28,  29,  30,  31,  32,  33,  34,  35,  36,  37,  38,  39,  40,\n",
       "        41,  42,  43,  44,  45,  46,  47,  48,  49,  50,  51,  52,  53,\n",
       "        54,  55,  56,  57,  58,  59,  60,  61,  62,  63,  64,  65,  66,\n",
       "        67,  68,  69,  70,  71,  72,  73,  74,  75,  76,  77,  78,  79,\n",
       "        80,  81,  82,  83,  84,  85,  86,  87,  88,  89,  90,  91,  92,\n",
       "        93,  94,  95,  96,  97,  98,  99, 100, 101, 102, 103, 104, 105,\n",
       "       106, 107, 108, 109, 111, 112, 113, 114, 115, 116, 117, 118, 119,\n",
       "       120, 121, 122, 123, 124, 125, 126, 127, 128, 129, 130, 131, 132,\n",
       "       133, 134, 135, 136, 137, 138, 139, 140, 141, 142, 143, 144, 145,\n",
       "       146, 147, 148, 149, 150, 151, 152, 153, 154, 155, 156, 157, 158,\n",
       "       159, 160, 161, 162, 163, 164, 165, 166, 167, 168, 169, 170, 171,\n",
       "       172, 173, 174, 175, 176, 177, 178, 179, 180, 181, 182, 183, 184,\n",
       "       185, 186, 187, 188, 189, 190, 191, 192, 193, 194, 195, 196, 197,\n",
       "       198, 199, 200, 201, 202, 203, 204, 205, 206, 207, 208, 209, 210,\n",
       "       211, 212, 213, 214, 215, 216, 217, 218, 219, 220, 221, 222, 223,\n",
       "       224, 225, 226, 227, 228, 229, 230, 231, 232, 233, 234, 235, 236,\n",
       "       237, 238, 239, 240, 241, 242, 243, 244, 245, 246, 247, 248, 249,\n",
       "       250, 251, 252, 253, 254, 255, 256, 257, 258, 259, 260, 261, 262,\n",
       "       263, 264, 265, 266, 267, 268, 269, 270, 271, 272, 273, 274, 275,\n",
       "       276, 277, 278, 279, 280, 281, 282, 283, 284, 285, 286, 287, 288,\n",
       "       289, 290, 291, 292, 293, 294, 295, 296, 297, 298, 299, 300, 301,\n",
       "       302, 303, 304, 305, 306, 307, 308, 309, 310, 311, 312, 313, 314,\n",
       "       315, 316, 317, 318, 319, 320, 321, 322, 323, 324, 325, 326, 327,\n",
       "       328, 329, 330, 331, 332, 333, 334, 335, 336, 337, 338, 339, 340,\n",
       "       341, 342, 343, 344, 345, 346, 347, 348, 349, 350, 351, 352, 353,\n",
       "       354, 355, 356, 357, 358, 359, 360, 361, 362, 363, 364, 365, 366,\n",
       "       367, 368, 369, 370, 371, 372, 373, 374, 375, 376, 377, 378, 379,\n",
       "       380, 381, 382, 383, 384, 385, 386, 387, 388, 389, 390, 391, 392,\n",
       "       393, 394, 395, 396, 397, 398, 399, 400, 401, 402, 403, 404, 405,\n",
       "       406, 407, 408, 409, 410, 411, 412, 413, 414, 415, 416, 417, 418,\n",
       "       419, 420, 421, 422, 423, 424, 425, 426, 427, 428, 429, 430, 431,\n",
       "       432, 433, 434, 435, 436, 437, 438, 439, 440, 441, 442, 443, 444,\n",
       "       445, 446, 447, 448, 449, 450, 451, 452, 453, 454, 455, 456, 457,\n",
       "       458, 459, 460, 461, 462, 463, 464, 465, 466, 467, 468, 469, 470,\n",
       "       471, 472, 473, 474, 475, 476, 477, 478, 479, 480, 481, 482, 483,\n",
       "       484, 485, 486, 487, 488, 489, 490, 491, 492, 493, 494, 495, 496,\n",
       "       497, 498, 499, 500, 501, 502, 503, 504, 505, 506, 507, 508, 509,\n",
       "       510, 511, 512, 513, 514, 515, 516, 517, 518, 519, 520, 521, 522,\n",
       "       523, 524])"
      ]
     },
     "execution_count": 46,
     "metadata": {},
     "output_type": "execute_result"
    }
   ],
   "source": [
    "partners.id.unique()"
   ]
  },
  {
   "cell_type": "code",
   "execution_count": 47,
   "id": "2204d5ec-b2ed-4862-9f80-c844590c9a68",
   "metadata": {},
   "outputs": [
    {
     "data": {
      "text/plain": [
       "array([   1,    2,    3, ..., 1468, 1469, 1470])"
      ]
     },
     "execution_count": 47,
     "metadata": {},
     "output_type": "execute_result"
    }
   ],
   "source": [
    "referrals.id.unique()"
   ]
  },
  {
   "cell_type": "code",
   "execution_count": 48,
   "id": "ddb3da74-5841-4015-ab5b-e6d584c0c24a",
   "metadata": {},
   "outputs": [
    {
     "data": {
      "text/plain": [
       "array([  4,   7,   8,   6,   2,  10,   9,  13,  14,  15,  17,  18,  19,\n",
       "        20,  25,  26,  27,  28,  29,  30,  31,  32,  33,  21,  34,  35,\n",
       "        22,  36,  38,  39,  42,  23,  41,  43,  16,  47,  48,  49,  50,\n",
       "        52,  51,  12,  54,  44,  11,  55,  57,  58,  24,  60,  62,  63,\n",
       "        64,  65,  72,  82,  83, 100,  66, 128, 129, 136,  69, 108,  67,\n",
       "       147, 157, 137,   3, 117, 131, 169, 191,  81, 201, 149, 198, 155,\n",
       "       114, 253, 184, 290, 161,  97, 302, 213, 334, 278, 247, 105, 142,\n",
       "       356, 242, 360, 227, 140, 366,  40, 337, 252,   5,  80,  91, 116,\n",
       "       386, 376, 330, 255, 458, 519])"
      ]
     },
     "execution_count": 48,
     "metadata": {},
     "output_type": "execute_result"
    }
   ],
   "source": [
    "referrals.partner_id.unique()"
   ]
  },
  {
   "cell_type": "code",
   "execution_count": null,
   "id": "c0d3dc2f-37b3-427b-8503-e31496b52572",
   "metadata": {},
   "outputs": [],
   "source": []
  }
 ],
 "metadata": {
  "kernelspec": {
   "display_name": "Python 3 (ipykernel)",
   "language": "python",
   "name": "python3"
  },
  "language_info": {
   "codemirror_mode": {
    "name": "ipython",
    "version": 3
   },
   "file_extension": ".py",
   "mimetype": "text/x-python",
   "name": "python",
   "nbconvert_exporter": "python",
   "pygments_lexer": "ipython3",
   "version": "3.10.5"
  }
 },
 "nbformat": 4,
 "nbformat_minor": 5
}
