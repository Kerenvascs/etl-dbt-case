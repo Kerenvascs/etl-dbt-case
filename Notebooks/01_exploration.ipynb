{
 "cells": [
  {
   "cell_type": "markdown",
   "id": "3dbe264d-bbc5-4bee-91d0-2daee16c9bfa",
   "metadata": {},
   "source": [
    "# GetGround Data Task"
   ]
  },
  {
   "cell_type": "markdown",
   "id": "e3baeb69-35df-40a2-aef3-334c8f262b03",
   "metadata": {},
   "source": [
    "## Goal: \n",
    "- to insert this data into a SQL database on your local machine; \n",
    "- run some SQL queries and analysis; \n",
    "- document, explain and visualize your response to the questions asked."
   ]
  },
  {
   "cell_type": "markdown",
   "id": "c06033b8-6140-4378-9d63-3f6bfb34a8b7",
   "metadata": {},
   "source": [
    "## Workflow:\n",
    "\n",
    "- 1. Understand the data\n",
    "- 2. Load raw data (csvs) into postgres \n",
    "- 3. Install dbt and connect to postgres ( Docker ?)\n",
    "- 4. Create models\n",
    "- 4. Analyze the data\n",
    "- 5. Report"
   ]
  },
  {
   "cell_type": "markdown",
   "id": "b3f93f8b-d569-4f95-892b-924acf417436",
   "metadata": {},
   "source": [
    "## Imports and setting"
   ]
  },
  {
   "cell_type": "code",
   "execution_count": 1,
   "id": "799aa150-9cfd-4625-9a19-40d7a52168b2",
   "metadata": {},
   "outputs": [],
   "source": [
    "import pandas as pd\n",
    "import numpy as np\n",
    "import datetime\n",
    "\n",
    "pd.set_option('display.max_rows', None)\n",
    "pd.set_option('display.max_columns', None)"
   ]
  },
  {
   "cell_type": "code",
   "execution_count": 3,
   "id": "f01be85a-4e31-4350-84e2-35233d0b4100",
   "metadata": {},
   "outputs": [
    {
     "name": "stdout",
     "output_type": "stream",
     "text": [
      "<class 'pandas.core.frame.DataFrame'>\n",
      "RangeIndex: 522 entries, 0 to 521\n",
      "Data columns (total 5 columns):\n",
      " #   Column              Non-Null Count  Dtype  \n",
      "---  ------              --------------  -----  \n",
      " 0   id                  522 non-null    int64  \n",
      " 1   created_at          522 non-null    float64\n",
      " 2   updated_at          522 non-null    float64\n",
      " 3   partner_type        522 non-null    object \n",
      " 4   lead_sales_contact  522 non-null    object \n",
      "dtypes: float64(2), int64(1), object(2)\n",
      "memory usage: 20.5+ KB\n"
     ]
    }
   ],
   "source": [
    "# load partners\n",
    "partners = pd.read_csv('/home/developer/Desktop/testes/tech-tests/GetGround_Analytics_Engineer_Data/partners.csv')\n",
    "partners.info()"
   ]
  },
  {
   "cell_type": "code",
   "execution_count": 4,
   "id": "a5699566-b469-48e2-9945-7748a9129d0d",
   "metadata": {},
   "outputs": [
    {
     "data": {
      "text/html": [
       "<div>\n",
       "<style scoped>\n",
       "    .dataframe tbody tr th:only-of-type {\n",
       "        vertical-align: middle;\n",
       "    }\n",
       "\n",
       "    .dataframe tbody tr th {\n",
       "        vertical-align: top;\n",
       "    }\n",
       "\n",
       "    .dataframe thead th {\n",
       "        text-align: right;\n",
       "    }\n",
       "</style>\n",
       "<table border=\"1\" class=\"dataframe\">\n",
       "  <thead>\n",
       "    <tr style=\"text-align: right;\">\n",
       "      <th></th>\n",
       "      <th>id</th>\n",
       "      <th>created_at</th>\n",
       "      <th>updated_at</th>\n",
       "      <th>partner_type</th>\n",
       "      <th>lead_sales_contact</th>\n",
       "    </tr>\n",
       "  </thead>\n",
       "  <tbody>\n",
       "    <tr>\n",
       "      <th>0</th>\n",
       "      <td>2</td>\n",
       "      <td>1.598856e+18</td>\n",
       "      <td>1.607047e+18</td>\n",
       "      <td>Agent</td>\n",
       "      <td>Potato</td>\n",
       "    </tr>\n",
       "    <tr>\n",
       "      <th>1</th>\n",
       "      <td>3</td>\n",
       "      <td>1.598859e+18</td>\n",
       "      <td>1.618882e+18</td>\n",
       "      <td>Agent</td>\n",
       "      <td>Lion</td>\n",
       "    </tr>\n",
       "    <tr>\n",
       "      <th>2</th>\n",
       "      <td>4</td>\n",
       "      <td>1.598859e+18</td>\n",
       "      <td>1.616642e+18</td>\n",
       "      <td>Agent</td>\n",
       "      <td>Potato</td>\n",
       "    </tr>\n",
       "    <tr>\n",
       "      <th>3</th>\n",
       "      <td>5</td>\n",
       "      <td>1.598860e+18</td>\n",
       "      <td>1.607331e+18</td>\n",
       "      <td>Agent</td>\n",
       "      <td>Lion</td>\n",
       "    </tr>\n",
       "    <tr>\n",
       "      <th>4</th>\n",
       "      <td>6</td>\n",
       "      <td>1.598866e+18</td>\n",
       "      <td>1.609743e+18</td>\n",
       "      <td>Agent</td>\n",
       "      <td>Potato</td>\n",
       "    </tr>\n",
       "  </tbody>\n",
       "</table>\n",
       "</div>"
      ],
      "text/plain": [
       "   id    created_at    updated_at partner_type lead_sales_contact\n",
       "0   2  1.598856e+18  1.607047e+18        Agent             Potato\n",
       "1   3  1.598859e+18  1.618882e+18        Agent               Lion\n",
       "2   4  1.598859e+18  1.616642e+18        Agent             Potato\n",
       "3   5  1.598860e+18  1.607331e+18        Agent               Lion\n",
       "4   6  1.598866e+18  1.609743e+18        Agent             Potato"
      ]
     },
     "execution_count": 4,
     "metadata": {},
     "output_type": "execute_result"
    }
   ],
   "source": [
    "partners.head()"
   ]
  },
  {
   "cell_type": "code",
   "execution_count": null,
   "id": "fce526b4-8d53-4997-b498-fdc3da940965",
   "metadata": {},
   "outputs": [],
   "source": []
  }
 ],
 "metadata": {
  "kernelspec": {
   "display_name": "Python 3 (ipykernel)",
   "language": "python",
   "name": "python3"
  },
  "language_info": {
   "codemirror_mode": {
    "name": "ipython",
    "version": 3
   },
   "file_extension": ".py",
   "mimetype": "text/x-python",
   "name": "python",
   "nbconvert_exporter": "python",
   "pygments_lexer": "ipython3",
   "version": "3.10.5"
  }
 },
 "nbformat": 4,
 "nbformat_minor": 5
}
