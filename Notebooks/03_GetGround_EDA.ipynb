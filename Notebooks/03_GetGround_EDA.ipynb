{
 "cells": [
  {
   "cell_type": "markdown",
   "id": "481dad0c-0679-483e-8c88-6cdcc5782ada",
   "metadata": {},
   "source": [
    "# GetGround DataTask"
   ]
  },
  {
   "cell_type": "markdown",
   "id": "8afaf61c-e11f-48cb-848c-ebf0e43e4b6a",
   "metadata": {},
   "source": [
    "**The Data**\n",
    "- GetGround currently has end-customers referred to us by partners, such as lettings agents and mortgage brokers. The customer then signs up for our service, and we pay the partner a small commission per referrals.\n",
    "- **Referrals are on a company level**: a customer who signs up for five companies counts as five referrals. Five customers in one company count as one referral.\n",
    "- **Partners each have consultants**, such as Joe Smith working at Lettings Agent A. The referrals are attributed to the specific consultant at a partner.\n",
    "- **For referrals, the updated_at field** essentially says when the status went from pending to either disinterested or successful. \n",
    "- **Timestamps are in Unix Nano format.**\n",
    "- **is_outbound** is true when we refer a customer to a partner, i.e. \"upsell\". In this case we send them the customer, and they pay us a commission. We haven't done this very thoroughly yet, so most referrals are inbound.\n",
    "- **Our sales people work in a \"key account\" model**. Referrals come from partners, and a sales person typically manages partner accounts.\n",
    "- We currently have sales people in the UK, Singapore and Hong Kong."
   ]
  },
  {
   "cell_type": "markdown",
   "id": "40c8e21a-c980-4909-ad64-e1b9fda8e2ca",
   "metadata": {},
   "source": [
    "# Goal: \n",
    "Exploratory data analysis for performing initial investigations on data so as to discover patterns, spot anomalies, test hypotheses, and check assumptions with the help of summary statistics and graphical representations. "
   ]
  },
  {
   "cell_type": "markdown",
   "id": "4dc02977-41d1-4037-abe2-ce77cdf285cb",
   "metadata": {
    "tags": []
   },
   "source": [
    "# To check/plot:"
   ]
  },
  {
   "cell_type": "markdown",
   "id": "01ed0c62-9667-4654-99d1-a3d8658297c5",
   "metadata": {},
   "source": [
    "**Referrals**\n",
    "- Status of referrals by year.\n",
    "- analyze latency for status updates, that is, partners that take time to consolidate referrals\n",
    "- analyze partners that do not have referrals\n",
    "- analyze sucssefull referrals by:\n",
    "    - year, \n",
    "    - quarters, \n",
    "    - month x \n",
    "    - company id, \n",
    "    - partner type and \n",
    "    - sales people\n",
    "    -country"
   ]
  },
  {
   "cell_type": "markdown",
   "id": "cc5b92a3-7fe1-4f30-b4af-cf78d1ba7058",
   "metadata": {
    "tags": []
   },
   "source": [
    "## Imports and setting"
   ]
  },
  {
   "cell_type": "code",
   "execution_count": null,
   "id": "db198686-fa3d-4e2a-bac4-8f34589b33aa",
   "metadata": {},
   "outputs": [],
   "source": [
    "import pandas as pd\n",
    "import numpy as np\n",
    "import matplotlib.pyplot as plt\n",
    "import matplotlib\n",
    "%matplotlib inline\n",
    "import seaborn as sns\n",
    "import datetime\n",
    "import squarify\n",
    "#sql connection\n",
    "from sqlalchemy import create_engine"
   ]
  },
  {
   "cell_type": "code",
   "execution_count": null,
   "id": "afb638a8-0696-4d7a-affd-d8ea6b288bf6",
   "metadata": {},
   "outputs": [],
   "source": [
    "pd.set_option('display.max_rows', None)\n",
    "pd.set_option('display.max_columns', None)"
   ]
  },
  {
   "cell_type": "markdown",
   "id": "b56171e0-b808-423c-aaaa-7a885a1f8d20",
   "metadata": {
    "jp-MarkdownHeadingCollapsed": true,
    "tags": []
   },
   "source": [
    "# Db connection"
   ]
  },
  {
   "cell_type": "code",
   "execution_count": null,
   "id": "a7bc4481-3882-4975-890b-bf4a72a49214",
   "metadata": {},
   "outputs": [],
   "source": [
    "db_name = \"postgres\"\n",
    "port = 5432\n",
    "user = \"postgres\"\n",
    "password = \"postgres\"\n",
    "host = \"localhost\"\n",
    "\n",
    "engine_template = \"postgresql://{user}:{password}@{host}:{port}/{db_name}\"\n",
    "engine_str = engine_template.format(user=user, password=password, host=host, port=port, db_name=db_name)\n",
    "print(engine_str)\n",
    "engine = create_engine(engine_str)"
   ]
  },
  {
   "cell_type": "markdown",
   "id": "107d1825-ecba-4286-b6e9-ba0e349fcd6d",
   "metadata": {
    "tags": []
   },
   "source": [
    "# Analysis"
   ]
  },
  {
   "cell_type": "markdown",
   "id": "58edaa26-a0a6-4f41-be04-3ef5b42348ef",
   "metadata": {
    "tags": []
   },
   "source": [
    "### Connecting to analytics layer"
   ]
  },
  {
   "cell_type": "code",
   "execution_count": null,
   "id": "c55d162a-2b35-4413-ba60-e39ceee9a3d2",
   "metadata": {},
   "outputs": [],
   "source": [
    "QUERY = 'SELECT * FROM dbt.sales_analytics_layer'\n",
    "data_raw = pd.read_sql_query(QUERY, engine)\n",
    "data_raw.head()"
   ]
  },
  {
   "cell_type": "code",
   "execution_count": null,
   "id": "bbda0694-ca93-4932-925f-bad32c6a2fc4",
   "metadata": {},
   "outputs": [],
   "source": [
    "data_raw.isna().sum()"
   ]
  },
  {
   "cell_type": "code",
   "execution_count": null,
   "id": "81ec323b-4d72-4bbf-a94d-b01dcfa4e189",
   "metadata": {},
   "outputs": [],
   "source": [
    "data_raw.dtypes"
   ]
  },
  {
   "cell_type": "code",
   "execution_count": null,
   "id": "c485ddec-24c8-4af1-9a31-20c4e3b7018a",
   "metadata": {},
   "outputs": [],
   "source": [
    "data_raw.shape"
   ]
  },
  {
   "cell_type": "code",
   "execution_count": null,
   "id": "8e087de8-c7d6-491d-9082-d94cf6373bcc",
   "metadata": {},
   "outputs": [],
   "source": [
    "1882-412"
   ]
  },
  {
   "cell_type": "code",
   "execution_count": null,
   "id": "7b8b5d4c-7dbb-4198-a542-a91ff30e7180",
   "metadata": {},
   "outputs": [],
   "source": [
    "# fill na with 0 to apply conversions\n",
    "data_raw = data_raw.fillna(0)"
   ]
  },
  {
   "cell_type": "code",
   "execution_count": null,
   "id": "11d31e4e-d20d-4ec5-9555-635d21b3e3a9",
   "metadata": {},
   "outputs": [],
   "source": [
    "### Filter referrals null\n",
    "data = data_raw[data_raw['referral_id'] != 0]\n",
    "data.shape"
   ]
  },
  {
   "cell_type": "markdown",
   "id": "94784439-ff3c-433b-bf21-10e9bdcb63f4",
   "metadata": {
    "jp-MarkdownHeadingCollapsed": true,
    "tags": []
   },
   "source": [
    "## Referrals by dates"
   ]
  },
  {
   "cell_type": "code",
   "execution_count": null,
   "id": "21ddc010-83e0-4d9d-aa53-3fd2b5be0457",
   "metadata": {},
   "outputs": [],
   "source": [
    "data.dtypes"
   ]
  },
  {
   "cell_type": "code",
   "execution_count": null,
   "id": "81f6862a-d6e4-48ce-b3bd-92836fcad6af",
   "metadata": {},
   "outputs": [],
   "source": [
    "data.columns"
   ]
  },
  {
   "cell_type": "markdown",
   "id": "ecb831a1-acf2-4422-b37b-b0f81dd4d24a",
   "metadata": {
    "tags": []
   },
   "source": [
    "#### Transform dates to datetime to extract dates, yar, month quarter etc"
   ]
  },
  {
   "cell_type": "code",
   "execution_count": null,
   "id": "ad4b9aa3-c7e9-4fde-babe-753e4f4f4f22",
   "metadata": {},
   "outputs": [],
   "source": [
    "data['partners_creation_date'] = pd.to_datetime(data['partners_creation_date'], utc=True, errors='coerce')\n",
    "data['partners_update_date'] = pd.to_datetime(data['partners_update_date'], utc=True, errors='coerce')\n",
    "data['referral_creation_date'] = pd.to_datetime(data['referral_creation_date'], utc=True, errors='coerce')\n",
    "data['referral_update_date'] = pd.to_datetime(data['referral_update_date'], utc=True, errors='coerce')\n",
    "#data.dtypes"
   ]
  },
  {
   "cell_type": "code",
   "execution_count": null,
   "id": "4964288b-ddf8-47e7-87a1-6b35da92be4c",
   "metadata": {},
   "outputs": [],
   "source": [
    "# Create column with year\n",
    "data['partners_creation_year']= pd.DatetimeIndex(data['partners_creation_date']).year\n",
    "data['partners_update_year']= pd.DatetimeIndex(data['partners_update_date']).year\n",
    "data['referral_creation_year']= pd.DatetimeIndex(data['referral_creation_date']).year\n",
    "data['referral_update_year']= pd.DatetimeIndex(data['referral_update_date']).year\n",
    "# normalize\n",
    "data['partners_creation_year']= data['partners_creation_year'].astype(int)\n",
    "data['partners_update_year']= data['partners_update_year'].astype(int)\n",
    "data['referral_creation_year']= data['referral_creation_year'].astype(int)\n",
    "data['referral_update_year']= data['referral_update_year'].astype(int)\n",
    "\n",
    "# Create column with month\n",
    "data['partners_creation_month']= pd.DatetimeIndex(data['partners_creation_date']).month\n",
    "data['partners_update_month']= pd.DatetimeIndex(data['partners_update_date']).month\n",
    "data['referral_creation_month']= pd.DatetimeIndex(data['referral_creation_date']).month\n",
    "data['referral_update_month']= pd.DatetimeIndex(data['referral_update_date']).month\n",
    "# normalize\n",
    "data['partners_creation_month']= data['partners_creation_month'].astype(int)\n",
    "data['partners_update_month']= data['partners_update_month'].astype(int)\n",
    "data['referral_creation_month']= data['referral_creation_month'].astype(int)\n",
    "data['referral_update_month']= data['referral_update_month'].astype(int)\n",
    "\n",
    "# Add quarter\n",
    "data['partners_creation_quarter']= pd.DatetimeIndex(data['partners_creation_date']).quarter\n",
    "data['partners_update_quarter']= pd.DatetimeIndex(data['partners_update_date']).quarter\n",
    "data['referral_creation_quarter']= pd.DatetimeIndex(data['referral_creation_date']).quarter\n",
    "data['referral_update_quarter']= pd.DatetimeIndex(data['referral_update_date']).quarter\n",
    "# normalize\n",
    "data['partners_creation_quarter']= data['partners_creation_quarter'].astype(int)\n",
    "data['partners_update_quarter']= data['partners_update_quarter'].astype(int)\n",
    "data['referral_creation_quarter']= data['referral_creation_quarter'].astype(int)\n",
    "data['referral_update_quarter']= data['referral_update_quarter'].astype(int)\n",
    "\n",
    "data.head()"
   ]
  },
  {
   "cell_type": "code",
   "execution_count": null,
   "id": "ce218b12-fa77-491e-8ebe-f290d7fdc100",
   "metadata": {},
   "outputs": [],
   "source": [
    "# Check year\n",
    "partners_creation_year_list = list(data['partners_creation_year'].unique())\n",
    "partners_update_year_list = list(data['partners_update_year'].unique())\n",
    "referral_creation_year_list  = list(data['referral_creation_year'].unique())\n",
    "referral_update_year_list  = list(data['referral_update_year'].unique())\n",
    "\n",
    "partners_creation_year_list.sort()\n",
    "partners_update_year_list.sort()\n",
    "referral_creation_year_list.sort()\n",
    "referral_update_year_list.sort() \n",
    "\n",
    "print('Partners creation year:', partners_creation_year_list)\n",
    "print('Partners update year:', partners_update_year_list )\n",
    "print('Ref creation year:', referral_creation_year_list)\n",
    "print('Ref update year:', referral_update_year_list)"
   ]
  },
  {
   "cell_type": "code",
   "execution_count": null,
   "id": "099109de-6aab-47a6-ace0-320221a63e46",
   "metadata": {},
   "outputs": [],
   "source": [
    "# Check months\n",
    "partners_creation_month_list = list(data['partners_creation_month'].unique())\n",
    "partners_update_month_list = list(data['partners_update_month'].unique())\n",
    "referral_creation_month_list  = list(data['referral_creation_month'].unique())\n",
    "referral_update_month_list  = list(data['referral_update_month'].unique())\n",
    "\n",
    "partners_creation_month_list.sort()\n",
    "partners_update_month_list.sort()\n",
    "referral_creation_month_list.sort()\n",
    "referral_update_month_list.sort() \n",
    "\n",
    "print('Partners creation month:', partners_creation_month_list)\n",
    "print('Partners update month:', partners_update_month_list )\n",
    "print('Ref creation month:', referral_creation_month_list)\n",
    "print('Ref update month:', referral_update_month_list)"
   ]
  },
  {
   "cell_type": "code",
   "execution_count": null,
   "id": "da2d43f7-3a52-4588-a21a-7d58cf28f3f3",
   "metadata": {},
   "outputs": [],
   "source": [
    "# Check quarters\n",
    "partners_creation_quarter_list = list(data['partners_creation_quarter'].unique())\n",
    "partners_update_quarter_list = list(data['partners_update_quarter'].unique())\n",
    "referral_creation_quarter_list  = list(data['referral_creation_quarter'].unique())\n",
    "referral_update_quarter_list  = list(data['referral_update_quarter'].unique())\n",
    "\n",
    "partners_creation_quarter_list.sort()\n",
    "partners_update_quarter_list.sort()\n",
    "referral_creation_quarter_list.sort()\n",
    "referral_update_quarter_list.sort() \n",
    "\n",
    "print('Partners creation mquarter', partners_creation_quarter_list)\n",
    "print('Partners update quarter:', partners_update_quarter_list )\n",
    "print('Ref creation quarter:', referral_creation_quarter_list)\n",
    "print('Ref update quarter:', referral_update_quarter_list)"
   ]
  },
  {
   "cell_type": "markdown",
   "id": "0789f812-c293-4286-9cfc-4ab4c047794a",
   "metadata": {
    "tags": []
   },
   "source": [
    "#### Notes dates"
   ]
  },
  {
   "cell_type": "code",
   "execution_count": null,
   "id": "3980a734-8847-4dda-9e2c-09ce46982e15",
   "metadata": {},
   "outputs": [],
   "source": [
    "data.referral_update_date.min()"
   ]
  },
  {
   "cell_type": "code",
   "execution_count": null,
   "id": "e21078cf-11ef-4e73-bcb1-4610039fe5b7",
   "metadata": {},
   "outputs": [],
   "source": [
    "data.referral_creation_date.max()"
   ]
  },
  {
   "cell_type": "markdown",
   "id": "6905ff96-6b8b-4438-bb9f-5aca9a89ba4e",
   "metadata": {},
   "source": [
    "- We do not have parters register for june and july. Why?\n",
    "- What are the months with the most registrations for both partners and referrals?\n",
    "- What are the months with the most referral updates?\n",
    "- We have data from 2020 september to 2021 may\n",
    "- We have data for all quartes"
   ]
  },
  {
   "cell_type": "markdown",
   "id": "9775559e-3de1-4dbe-8e49-307be711be59",
   "metadata": {
    "jp-MarkdownHeadingCollapsed": true,
    "tags": []
   },
   "source": [
    "## Total Referral trend"
   ]
  },
  {
   "cell_type": "code",
   "execution_count": null,
   "id": "8834387e-f917-4638-a41f-e3205d68ade7",
   "metadata": {},
   "outputs": [],
   "source": [
    "total_referrals = data.groupby(['referral_update_year', 'referral_update_month', 'status'])[['referral_id']].count().reset_index()\n",
    "total_referrals  = total_referrals.sort_values(by=['referral_id'], ascending=False)\n",
    "total_referrals.head()"
   ]
  },
  {
   "cell_type": "code",
   "execution_count": null,
   "id": "b7e29b96-3df8-4371-ae55-db9fe4307384",
   "metadata": {},
   "outputs": [],
   "source": [
    "# Define the style\n",
    "sns.set_theme(style=\"whitegrid\")\n",
    "\n",
    "# Define the plot size\n",
    "plt.figure(figsize=(10, 6))\n",
    "\n",
    "# Defining the values for x-axis, y-axis and from which dataframe the values are to be picked\n",
    "plot = sns.barplot(x=\"referral_update_month\", y=\"referral_id\", hue=\"referral_update_year\", data=total_referrals, palette=\"Spectral\")\n",
    "\n",
    "# Setting the label for x-axis\n",
    "plt.xlabel(\"Month\", size=14)\n",
    "\n",
    "# Setting the label for y-axis\n",
    "plt.ylabel(\"Successful Referrals\", size=14)\n",
    "\n",
    "# Setting the title for the graph\n",
    "plt.title(\"Referrals by month\", size=16)\n",
    "\n",
    "# Iterrating over the bars one-by-one\n",
    "for bar in plot.patches:\n",
    "    plot.annotate(format(bar.get_height(), '.0f'),\n",
    "                   (bar.get_x() + bar.get_width() / 2,\n",
    "                    bar.get_height()), ha='center', va='center',\n",
    "                   size=12, xytext=(0, 8),\n",
    "                   textcoords='offset points')\n",
    "\n",
    "plt.legend(title='Year', loc='upper left')\n",
    "\n",
    "# Finally showing the plot\n",
    "plt.show()"
   ]
  },
  {
   "cell_type": "markdown",
   "id": "6b1f9c50-09ea-44e9-b3ac-f032a7143d96",
   "metadata": {},
   "source": [
    "#### Notes:\n",
    "from the last two quarters of 2020 to the first two of 2021, the number of referrals registered in the system doubled in size."
   ]
  },
  {
   "cell_type": "markdown",
   "id": "ff5dfa27-5acb-439d-86d2-0cd84e9717bc",
   "metadata": {
    "jp-MarkdownHeadingCollapsed": true,
    "tags": []
   },
   "source": [
    "## Referrals by status and year year"
   ]
  },
  {
   "cell_type": "markdown",
   "id": "4a90ece0-800a-4c3a-8ab2-d04b7ce749bf",
   "metadata": {
    "jp-MarkdownHeadingCollapsed": true,
    "tags": []
   },
   "source": [
    "#### Grouping to summarize and plot"
   ]
  },
  {
   "cell_type": "code",
   "execution_count": null,
   "id": "d82718f7-24d6-4389-8ecd-cb9c95d58681",
   "metadata": {},
   "outputs": [],
   "source": [
    "referrals_by_year = data.groupby(['status', 'referral_update_year'])[['referral_id']].count().reset_index()\n",
    "\n",
    "referrals_by_year.head()"
   ]
  },
  {
   "cell_type": "markdown",
   "id": "08296f66-6f2c-4c0e-8f0b-26410639fc0c",
   "metadata": {
    "jp-MarkdownHeadingCollapsed": true,
    "tags": []
   },
   "source": [
    "## Referrals by year"
   ]
  },
  {
   "cell_type": "code",
   "execution_count": null,
   "id": "4f2d48e4-0cc6-420e-a7b3-be855e735f86",
   "metadata": {},
   "outputs": [],
   "source": [
    "# Define the style\n",
    "sns.set_theme(style=\"whitegrid\")\n",
    "\n",
    "# Define the plot size\n",
    "plt.figure(figsize=(10, 6))\n",
    "\n",
    "# Defining the values for x-axis, y-axis and from which dataframe the values are to be picked\n",
    "plot = sns.barplot(x=\"referral_update_year\", y=\"referral_id\", hue=\"status\", data=referrals_by_year, palette=\"Spectral\")\n",
    "\n",
    "# Setting the label for x-axis\n",
    "plt.xlabel(\"Year\", size=14)\n",
    "\n",
    "# Setting the label for y-axis\n",
    "plt.ylabel(\"Referrals\", size=14)\n",
    "\n",
    "# Setting the title for the graph\n",
    "plt.title(\"Referrals by year\", size=16)\n",
    "\n",
    "# Iterrating over the bars one-by-one\n",
    "for bar in plot.patches:\n",
    "    plot.annotate(format(bar.get_height(), '.0f'),\n",
    "                   (bar.get_x() + bar.get_width() / 2,\n",
    "                    bar.get_height()), ha='center', va='center',\n",
    "                   size=12, xytext=(0, 8),\n",
    "                   textcoords='offset points')\n",
    "\n",
    "\n",
    "# Finally showing the plot\n",
    "plt.show()"
   ]
  },
  {
   "cell_type": "markdown",
   "id": "12ccc8b2-66f0-4eb2-835d-b6429038cb19",
   "metadata": {},
   "source": [
    "Questions: The pending status has increased a lot, are there more referrals to process and therefore the delay? What is the reason?"
   ]
  },
  {
   "cell_type": "markdown",
   "id": "9fe02483-c529-4655-8631-fd042a2bf1b0",
   "metadata": {
    "jp-MarkdownHeadingCollapsed": true,
    "tags": []
   },
   "source": [
    "## Referrals by quarter"
   ]
  },
  {
   "cell_type": "code",
   "execution_count": null,
   "id": "36ba8c69-ee80-4f3f-926a-cbc3ca1cd4de",
   "metadata": {},
   "outputs": [],
   "source": [
    "referrals_by_quarter = data.groupby(['status', 'referral_update_quarter', 'referral_update_year'])[['referral_id']].count().reset_index()\n",
    "referrals_by_quarter"
   ]
  },
  {
   "cell_type": "code",
   "execution_count": null,
   "id": "66db7ab0-19f7-4d18-9f97-da55bba1b5ca",
   "metadata": {},
   "outputs": [],
   "source": [
    "df20 = referrals_by_quarter[referrals_by_quarter['referral_update_year']==2020]\n",
    "df20.head()"
   ]
  },
  {
   "cell_type": "code",
   "execution_count": null,
   "id": "b06d6cc1-4379-44c6-9fe5-3efd33d252d6",
   "metadata": {},
   "outputs": [],
   "source": [
    "df21 = referrals_by_quarter[referrals_by_quarter['referral_update_year']==2021]\n",
    "df21.head()"
   ]
  },
  {
   "cell_type": "markdown",
   "id": "f4e3212f-89ee-4c46-a717-8bde71a7a008",
   "metadata": {
    "jp-MarkdownHeadingCollapsed": true,
    "tags": []
   },
   "source": [
    "### Plot ref by year and quarter"
   ]
  },
  {
   "cell_type": "code",
   "execution_count": null,
   "id": "fc24376c-52a3-4431-bc44-1bee6eccf826",
   "metadata": {},
   "outputs": [],
   "source": [
    "# 2021\n",
    "# Define the style\n",
    "sns.set_theme(style=\"whitegrid\")\n",
    "\n",
    "# Define the plot size\n",
    "plt.figure(figsize=(10, 6))\n",
    "\n",
    "# Defining the values for x-axis, y-axis and from which dataframe the values are to be picked\n",
    "plot = sns.barplot(x=\"referral_update_quarter\", y=\"referral_id\", hue=\"status\", data=df21, palette=\"Spectral\")\n",
    "\n",
    "# Setting the label for x-axis\n",
    "plt.xlabel(\"Year\", size=14)\n",
    "\n",
    "# Setting the label for y-axis\n",
    "plt.ylabel(\"Referrals\", size=14)\n",
    "\n",
    "# Setting the title for the graph\n",
    "plt.title(\"Referrals by quarter 2021\", size=16)\n",
    "\n",
    "# Iterrating over the bars one-by-one\n",
    "for bar in plot.patches:\n",
    "    plot.annotate(format(bar.get_height(), '.0f'),\n",
    "                   (bar.get_x() + bar.get_width() / 2,\n",
    "                    bar.get_height()), ha='center', va='center',\n",
    "                   size=12, xytext=(0, 8),\n",
    "                   textcoords='offset points')\n",
    "\n",
    "\n",
    "# Finally showing the plot\n",
    "plt.show()"
   ]
  },
  {
   "cell_type": "code",
   "execution_count": null,
   "id": "6f009c09",
   "metadata": {},
   "outputs": [],
   "source": [
    "# 2021\n",
    "# Define the style\n",
    "sns.set_theme(style=\"whitegrid\")\n",
    "\n",
    "# Define the plot size\n",
    "plt.figure(figsize=(10, 6))\n",
    "\n",
    "# Defining the values for x-axis, y-axis and from which dataframe the values are to be picked\n",
    "plot = sns.barplot(x=\"referral_update_quarter\", y=\"referral_id\", hue=\"status\", data=df21, palette=\"Spectral\")\n",
    "\n",
    "# Setting the label for x-axis\n",
    "plt.xlabel(\"Year\", size=14)\n",
    "\n",
    "# Setting the label for y-axis\n",
    "plt.ylabel(\"Referrals\", size=14)\n",
    "\n",
    "# Setting the title for the graph\n",
    "plt.title(\"Referrals by quarter 2021\", size=16)\n",
    "\n",
    "# Iterrating over the bars one-by-one\n",
    "for bar in plot.patches:\n",
    "    plot.annotate(format(bar.get_height(), '.0f'),\n",
    "                   (bar.get_x() + bar.get_width() / 2,\n",
    "                    bar.get_height()), ha='center', va='center',\n",
    "                   size=12, xytext=(0, 8),\n",
    "                   textcoords='offset points')\n",
    "\n",
    "\n",
    "# Finally showing the plot\n",
    "plt.show()"
   ]
  },
  {
   "cell_type": "markdown",
   "id": "920820df-353b-46c2-85db-f8d71d669f2b",
   "metadata": {
    "jp-MarkdownHeadingCollapsed": true,
    "tags": []
   },
   "source": [
    "### Plot by quarter for 2020/2021"
   ]
  },
  {
   "cell_type": "code",
   "execution_count": null,
   "id": "df8c98d6-1833-4254-9e78-b882d58ee3e1",
   "metadata": {},
   "outputs": [],
   "source": [
    "# Define the style\n",
    "sns.set_theme(style=\"whitegrid\")\n",
    "\n",
    "# Define the plot size\n",
    "plt.figure(figsize=(10, 6))\n",
    "\n",
    "# Defining the values for x-axis, y-axis and from which dataframe the values are to be picked\n",
    "plot = sns.barplot(x=\"referral_update_quarter\", y=\"referral_id\", hue=\"status\", data=referrals_by_quarter, palette=\"Spectral\")\n",
    "\n",
    "# Setting the label for x-axis\n",
    "plt.xlabel(\"Quarter\", size=14)\n",
    "\n",
    "# Setting the label for y-axis\n",
    "plt.ylabel(\"Referrals\", size=14)\n",
    "\n",
    "# Setting the title for the graph\n",
    "plt.title(\"Referrals by quarter 2021 | 2020\", size=16)\n",
    "\n",
    "# Iterrating over the bars one-by-one\n",
    "for bar in plot.patches:\n",
    "    plot.annotate(format(bar.get_height(), '.0f'),\n",
    "                   (bar.get_x() + bar.get_width() / 2,\n",
    "                    bar.get_height()), ha='center', va='center',\n",
    "                   size=12, xytext=(0, 8),\n",
    "                   textcoords='offset points')\n",
    "\n",
    "\n",
    "# Finally showing the plot\n",
    "plt.show()"
   ]
  },
  {
   "cell_type": "code",
   "execution_count": null,
   "id": "b03ad5a5-1e76-437f-a51f-e0f79bc17618",
   "metadata": {},
   "outputs": [],
   "source": [
    "data.sort_values(by=['status'])\n",
    "data.head(2)"
   ]
  },
  {
   "cell_type": "code",
   "execution_count": null,
   "id": "c0549209-a820-4969-8ddf-4480da134ec7",
   "metadata": {},
   "outputs": [],
   "source": [
    "# Define the style\n",
    "sns.set_theme(style=\"whitegrid\")\n",
    "\n",
    "# Define the plot size\n",
    "plt.figure(figsize=(10, 6))\n",
    "\n",
    "g = sns.catplot(x=\"referral_update_quarter\", hue=\"status\", col=\"referral_update_year\",\n",
    "                data=data, kind=\"count\",\n",
    "                palette=\"Spectral_r\",\n",
    "                height=6, aspect=.7);\n",
    "\n",
    "\n",
    "g.set_axis_labels(\"Quarter\", \"nº of referrals\")\n",
    "g.set_titles(col_template=\"{col_name}\", row_template=\"{row_name}\")\n",
    "\n",
    "\n",
    "plt.show()"
   ]
  },
  {
   "cell_type": "markdown",
   "id": "646b34ba-51a6-4859-8c04-9d3cae82bcf1",
   "metadata": {
    "jp-MarkdownHeadingCollapsed": true,
    "tags": []
   },
   "source": [
    "### Only Sucsessfull referrals by month and year"
   ]
  },
  {
   "cell_type": "code",
   "execution_count": null,
   "id": "c257fe63-3c2d-4385-8c4c-03c7cd03dd7b",
   "metadata": {},
   "outputs": [],
   "source": [
    "successful_referrals = data.groupby(['status', 'referral_update_quarter', 'referral_update_year',  'referral_update_month',])[['referral_id']].count().reset_index()\n",
    "successful_referrals = successful_referrals[successful_referrals['status']=='successful']\n",
    "successful_referrals = successful_referrals.sort_values(by=['referral_update_year'])\n",
    "successful_referrals"
   ]
  },
  {
   "cell_type": "code",
   "execution_count": null,
   "id": "36c9aa2f-7092-460d-bfbb-6d23e4a6ca5b",
   "metadata": {},
   "outputs": [],
   "source": [
    "successful_referrals.dtypes"
   ]
  },
  {
   "cell_type": "code",
   "execution_count": null,
   "id": "afb4bfe7-f15d-404f-ac4b-6ce26e03c5d8",
   "metadata": {},
   "outputs": [],
   "source": [
    "# Define the style\n",
    "sns.set_theme(style=\"whitegrid\")\n",
    "\n",
    "# Define the plot size\n",
    "plt.figure(figsize=(10, 6))\n",
    "\n",
    "# Defining the values for x-axis, y-axis and from which dataframe the values are to be picked\n",
    "plot = sns.barplot(x=\"referral_update_month\", y=\"referral_id\", hue=\"referral_update_year\", data=successful_referrals, palette=\"Spectral\")\n",
    "\n",
    "# Setting the label for x-axis\n",
    "plt.xlabel(\"Month\", size=14)\n",
    "\n",
    "# Setting the label for y-axis\n",
    "plt.ylabel(\"Successful Referrals\", size=14)\n",
    "\n",
    "# Setting the title for the graph\n",
    "plt.title(\"Referrals by company\", size=16)\n",
    "\n",
    "# Iterrating over the bars one-by-one\n",
    "for bar in plot.patches:\n",
    "    plot.annotate(format(bar.get_height(), '.0f'),\n",
    "                   (bar.get_x() + bar.get_width() / 2,\n",
    "                    bar.get_height()), ha='center', va='center',\n",
    "                   size=12, xytext=(0, 8),\n",
    "                   textcoords='offset points')\n",
    "\n",
    "plt.legend(title='Year', loc='upper left')\n",
    "\n",
    "# Finally showing the plot\n",
    "plt.show()"
   ]
  },
  {
   "cell_type": "markdown",
   "id": "f1b30a6e-1806-4751-a4fd-d3afa2b431f6",
   "metadata": {},
   "source": [
    "#### **Notes**:\n",
    "- the month with the highest number of successful referrals was: October - 2021, with an ammount of 168 successful referrals.\n",
    "- the month with the lowest number of success in referrals was May -2020, BECAUSE WE ONLY HAVE DATA UNTILL MAY 5TH."
   ]
  },
  {
   "cell_type": "markdown",
   "id": "cbc90bb9-d17f-4f57-afce-82ec5f164490",
   "metadata": {
    "jp-MarkdownHeadingCollapsed": true,
    "tags": []
   },
   "source": [
    "## Referrals by company\n",
    "- **Referrals are on a company level**: a customer who signs up for five companies counts as five referrals. Five customers in one company count as one referral."
   ]
  },
  {
   "cell_type": "markdown",
   "id": "c8cf3c20-283e-4343-9b11-fe37f42c644a",
   "metadata": {
    "tags": []
   },
   "source": [
    "#### Prepare the data"
   ]
  },
  {
   "cell_type": "code",
   "execution_count": null,
   "id": "83388238-82eb-41b2-a758-67e511297ba6",
   "metadata": {},
   "outputs": [],
   "source": [
    "#data.columns"
   ]
  },
  {
   "cell_type": "code",
   "execution_count": null,
   "id": "ac48ee1a-b8ae-4e4c-8b0e-4bdf7d84816e",
   "metadata": {},
   "outputs": [],
   "source": [
    "len(data.company_id.unique())"
   ]
  },
  {
   "cell_type": "code",
   "execution_count": null,
   "id": "b1b847b3-af17-415f-9cb8-1dd516369715",
   "metadata": {},
   "outputs": [],
   "source": [
    "data['company_id'] = data.company_id.astype(int)\n",
    "#data.dtypes"
   ]
  },
  {
   "cell_type": "markdown",
   "id": "d8ff0897-2cd6-4fd9-baf6-a0e7a8cc8c83",
   "metadata": {},
   "source": [
    " We have 776 companies with referrals updated"
   ]
  },
  {
   "cell_type": "code",
   "execution_count": null,
   "id": "e003caff-9a18-478a-88c4-e11ed08f8869",
   "metadata": {},
   "outputs": [],
   "source": [
    "referrals_by_company = data.groupby(['status', 'company_id'])[['referral_id']].count().reset_index()\n",
    "#referrals_by_company = referrals_by_company[(referrals_by_company['company_id']!= 0) & (referrals_by_company['referral_id'] >= 4)]\n",
    "referrals_by_company = referrals_by_company[(referrals_by_company['company_id']!= 0) & (referrals_by_company['status']=='successful') & (referrals_by_company['referral_id'] >= 2)]\n",
    "referrals_by_company = referrals_by_company.sort_values(by=['referral_id'], ascending=False)\n",
    "referrals_by_company.head()"
   ]
  },
  {
   "cell_type": "markdown",
   "id": "92554866-c099-4ce2-9215-c358d4e99e41",
   "metadata": {},
   "source": [
    "top companies: 809, 811, 1124, 1102"
   ]
  },
  {
   "cell_type": "code",
   "execution_count": null,
   "id": "730020fe-7dd3-44e0-bd1d-6fbb6070850e",
   "metadata": {},
   "outputs": [],
   "source": [
    "referrals_by_company.shape"
   ]
  },
  {
   "cell_type": "code",
   "execution_count": null,
   "id": "87d8127a-c0a5-4f40-94eb-e3aaf1e34b4c",
   "metadata": {},
   "outputs": [],
   "source": [
    "len(referrals_by_company.company_id.unique())"
   ]
  },
  {
   "cell_type": "markdown",
   "id": "8e3e06df-26f2-4ace-aa56-2769965f947f",
   "metadata": {},
   "source": [
    "Há companhias que tem mais de uma referral atrelada!"
   ]
  },
  {
   "cell_type": "code",
   "execution_count": null,
   "id": "f001c84c-54cc-4dc0-a1e7-b5da69855ac8",
   "metadata": {},
   "outputs": [],
   "source": [
    "referrals_by_company.referral_id.unique()"
   ]
  },
  {
   "cell_type": "code",
   "execution_count": null,
   "id": "2bec7528-11fd-430a-ac32-6549bbe80800",
   "metadata": {},
   "outputs": [],
   "source": [
    "referrals_by_company.status.unique()"
   ]
  },
  {
   "cell_type": "markdown",
   "id": "e8245cec-5e4d-49bb-879a-6a12f0bfd185",
   "metadata": {
    "jp-MarkdownHeadingCollapsed": true,
    "tags": []
   },
   "source": [
    "#### unmelt to create a horizontal stacked bar plot"
   ]
  },
  {
   "cell_type": "code",
   "execution_count": null,
   "id": "104f4b36-9ea4-4bfe-94c3-b7fb46cbb4ec",
   "metadata": {},
   "outputs": [],
   "source": [
    "\n",
    "# unmelting\n",
    "reshaped_df = referrals_by_company.pivot(index='company_id', columns='status').reset_index()\n",
    "  \n",
    "# displaying the reshaped data frame\n",
    "reshaped_df.head()"
   ]
  },
  {
   "cell_type": "code",
   "execution_count": null,
   "id": "899bd9cb-31f2-4ddd-ade0-0a0d116c372c",
   "metadata": {},
   "outputs": [],
   "source": [
    "# remove extra level\n",
    "reshaped_df = reshaped_df.droplevel(0, axis=1) \n",
    "reshaped_df.head()"
   ]
  },
  {
   "cell_type": "code",
   "execution_count": null,
   "id": "faec5471-3c46-4c5f-80e0-31dcd1259b4a",
   "metadata": {
    "tags": []
   },
   "outputs": [],
   "source": [
    "# rename col\n",
    "reshaped_df = reshaped_df.rename(columns={'':'company_id'})"
   ]
  },
  {
   "cell_type": "code",
   "execution_count": null,
   "id": "30c7f46f-a790-42b7-ac62-f70fceca98f3",
   "metadata": {},
   "outputs": [],
   "source": [
    "reshaped_df.isnull().sum()"
   ]
  },
  {
   "cell_type": "code",
   "execution_count": null,
   "id": "d769c3d7-8bae-46f8-a543-3cf6e2c61f8e",
   "metadata": {},
   "outputs": [],
   "source": [
    "reshaped_df = reshaped_df.fillna(0)\n",
    "reshaped_df.head()"
   ]
  },
  {
   "cell_type": "code",
   "execution_count": null,
   "id": "25a92064-4df4-4550-86d5-45774bcb7864",
   "metadata": {},
   "outputs": [],
   "source": [
    "reshaped_df.columns"
   ]
  },
  {
   "cell_type": "code",
   "execution_count": null,
   "id": "98cbfcec-88f1-4f94-b70b-4cecd0a1361d",
   "metadata": {},
   "outputs": [],
   "source": [
    "reshaped_df['total'] = reshaped_df['disinterested'] + reshaped_df['pending'] + reshaped_df['successful']\n",
    "reshaped_df.head()"
   ]
  },
  {
   "cell_type": "markdown",
   "id": "f0853624-87ad-4a23-bcac-a8c267e458d8",
   "metadata": {
    "jp-MarkdownHeadingCollapsed": true,
    "tags": []
   },
   "source": [
    "## Referrals inbound x outbound per year and country"
   ]
  },
  {
   "cell_type": "code",
   "execution_count": null,
   "id": "123356d9-80d5-4393-8a9e-aa3bd397b6ff",
   "metadata": {},
   "outputs": [],
   "source": [
    "data.columns"
   ]
  },
  {
   "cell_type": "code",
   "execution_count": null,
   "id": "0a17676e-a4f5-42bc-99c1-2c862091585b",
   "metadata": {},
   "outputs": [],
   "source": [
    "data.shape"
   ]
  },
  {
   "cell_type": "code",
   "execution_count": null,
   "id": "b92af8b0-dbd9-40e4-b211-9aec73eba532",
   "metadata": {},
   "outputs": [],
   "source": [
    "out_x_in = data.groupby(['is_outbound'])[['referral_id']].count().reset_index()\n",
    "print(out_x_in.referral_id.sum())\n",
    "out_x_in"
   ]
  },
  {
   "cell_type": "markdown",
   "id": "177a063c-44c2-426e-b83b-50370d44cf8b",
   "metadata": {
    "tags": []
   },
   "source": [
    "####  Plot composition "
   ]
  },
  {
   "cell_type": "code",
   "execution_count": null,
   "id": "d5fd9748-2ba8-4f6c-9c09-df38f1f36517",
   "metadata": {},
   "outputs": [],
   "source": [
    "# Define data\n",
    "data = list(out_x_in.referral_id.unique())\n",
    "labels = ['Inbound', 'outbound']"
   ]
  },
  {
   "cell_type": "code",
   "execution_count": null,
   "id": "099531b3-a9da-445a-bf54-25d678a6a929",
   "metadata": {},
   "outputs": [],
   "source": [
    "# Define the style\n",
    "sns.set_theme(style=\"whitegrid\")\n",
    "\n",
    "# Define the plot size\n",
    "plt.figure(figsize=(10, 6))\n",
    "\n",
    "#define Seaborn color palette to use\n",
    "#colors = sns.color_palette('pastel')[0:5]\n",
    "colors= ['teal', 'tan']\n",
    "#create pie chart\n",
    "plt.pie(data, labels = labels, colors = colors, autopct='%.0f%%')\n",
    "plt.show()"
   ]
  },
  {
   "cell_type": "markdown",
   "id": "8e4d9f99-635d-4e05-bebe-f602571a43cd",
   "metadata": {},
   "source": [
    "##### Note: \n",
    "- We have 932 inbound referrals and 538 inbound referrals and 538 outbound\n",
    "- i.e 63% of our referrals are inbound, however we have room to increase and invest in outbound, that represent 37%  of the referrals.\n"
   ]
  },
  {
   "cell_type": "code",
   "execution_count": null,
   "id": "74a39b85-d23d-4b59-9442-11d2d72ad623",
   "metadata": {},
   "outputs": [],
   "source": [
    "outbound = data.groupby(['status', 'company_id', 'country'])[['is_outbound']].sum().reset_index()\n",
    "outbound = outbound[(outbound['is_outbound']!=0) & (outbound['company_id']!= 0) & (outbound['country']!= 0)]\n",
    "outbound = outbound.sort_values(by=['is_outbound'], ascending=False)\n",
    "outbound.shape"
   ]
  },
  {
   "cell_type": "code",
   "execution_count": null,
   "id": "f6c8fb8d-7168-4c4d-912c-071603a3b986",
   "metadata": {},
   "outputs": [],
   "source": [
    "outbound.country.unique()"
   ]
  },
  {
   "cell_type": "code",
   "execution_count": null,
   "id": "a957497a-7a9e-475a-a912-ac27c592b0ef",
   "metadata": {},
   "outputs": [],
   "source": [
    "sing = outbound[outbound['country']=='Singapore']\n",
    "sing.shape"
   ]
  },
  {
   "cell_type": "code",
   "execution_count": null,
   "id": "810e525f-14a3-4b3f-83f4-23c6789ace14",
   "metadata": {},
   "outputs": [],
   "source": [
    "sing.head()"
   ]
  },
  {
   "cell_type": "code",
   "execution_count": null,
   "id": "acfafa1a-08ea-4f9c-8901-da625f1d93b7",
   "metadata": {},
   "outputs": [],
   "source": [
    "outbound = data.groupby(['status', 'company_id', 'country'])[['is_outbound']].sum().reset_index()\n",
    "outbound = outbound[(outbound['is_outbound']!=0) & (outbound['company_id']!= 0)  & (outbound['is_outbound']>3)]\n",
    "outbound = outbound.sort_values(by=['is_outbound'], ascending=False)\n",
    "outbound.shape"
   ]
  },
  {
   "cell_type": "code",
   "execution_count": null,
   "id": "2cf32399-eef6-4dd4-ac1a-9d44250fa2e5",
   "metadata": {},
   "outputs": [],
   "source": [
    "outbound.is_outbound.unique()"
   ]
  },
  {
   "cell_type": "code",
   "execution_count": null,
   "id": "aeae80f6-517e-4ce7-9659-99c806897b8f",
   "metadata": {},
   "outputs": [],
   "source": [
    "outbound.head()"
   ]
  },
  {
   "cell_type": "code",
   "execution_count": null,
   "id": "8e552787-02a2-465c-b032-1e7e3263a62d",
   "metadata": {},
   "outputs": [],
   "source": [
    "outbound.country.unique()"
   ]
  },
  {
   "cell_type": "code",
   "execution_count": null,
   "id": "a5ac03ce-8a0e-48fc-a9b2-b161cd5b473a",
   "metadata": {},
   "outputs": [],
   "source": [
    "# em qual mes tivemos maior numero de outbound\n",
    "outbound_year = data.groupby(['status', 'company_id', 'country', 'referral_update_year'])[['is_outbound']].sum().reset_index()\n",
    "outbound_year = outbound[(outbound['is_outbound']!=0) & (outbound['company_id']!= 0)  & (outbound['is_outbound']>3)]\n",
    "outbound_year = outbound.sort_values(by=['is_outbound'], ascending=False)\n",
    "outbound_year"
   ]
  },
  {
   "cell_type": "markdown",
   "id": "4b16656d-30b6-4a0d-bd01-61402c24665d",
   "metadata": {},
   "source": [
    "#### Notes:\n",
    "- Em Uk temos mais outbound, faz sentido é melhor começar por lá\n",
    "- temos um total de 340 registros de vendas outbound\n",
    "-  Temos 19 empresas com outbound maior que , todas em UK\n",
    "- Companhias com maior numero referral outbound: 1057\n",
    "- Hã 70 ocorrencias de servicos upsell em singapore, pode ser um futuro mercado para expansao deste produto\n",
    "- As tres empresas com maior numero de outbound sao: 1053, 976, 952"
   ]
  },
  {
   "cell_type": "code",
   "execution_count": null,
   "id": "20f9344d-24de-4dc7-8efb-4208e13a731d",
   "metadata": {},
   "outputs": [],
   "source": [
    "# empresas fazendo outbound\n",
    "\n",
    "# paises onde outbound esta crescendo"
   ]
  },
  {
   "cell_type": "code",
   "execution_count": null,
   "id": "fffdeb88-e631-4113-a3cb-edcb2b83d1ed",
   "metadata": {},
   "outputs": [],
   "source": [
    "#outbound_ref.referral_id.unique()"
   ]
  },
  {
   "cell_type": "markdown",
   "id": "5f72b3d9-85f8-427b-bca7-ce36d919a2d9",
   "metadata": {
    "jp-MarkdownHeadingCollapsed": true,
    "tags": []
   },
   "source": [
    "## Referrals density by status"
   ]
  },
  {
   "cell_type": "markdown",
   "id": "9afe1022-7b1e-4db2-90a1-18990d43723f",
   "metadata": {
    "jp-MarkdownHeadingCollapsed": true,
    "tags": []
   },
   "source": [
    "#### Prepare the data to plot areas"
   ]
  },
  {
   "cell_type": "code",
   "execution_count": null,
   "id": "990a802d-1122-4398-a27d-9a8719286b34",
   "metadata": {},
   "outputs": [],
   "source": [
    "referrals_by_status = data.groupby(['status', 'referral_update_year'])[['referral_id']].count().reset_index()\n",
    "# unmelting\n",
    "reshaped_df_2 = referrals_by_status.pivot(index='referral_update_year', columns='status').reset_index()\n",
    "# remove extra level\n",
    "reshaped_df_2 = reshaped_df_2.droplevel(0, axis=1) \n",
    "# rename col\n",
    "reshaped_df_2 = reshaped_df_2.rename(columns={'':'year'})\n",
    "reshaped_df_2 = reshaped_df_2.fillna(0)\n",
    "reshaped_df_2.head()"
   ]
  },
  {
   "cell_type": "markdown",
   "id": "32355f5a-7e6d-4e8a-9629-0b512d01a992",
   "metadata": {
    "tags": []
   },
   "source": [
    "#### Plot status area chart"
   ]
  },
  {
   "cell_type": "code",
   "execution_count": null,
   "id": "95cefc4f-e3b2-4ee9-9059-1c9c91fb62b4",
   "metadata": {},
   "outputs": [],
   "source": [
    "# Define the style\n",
    "sns.set_theme(style=\"whitegrid\")\n",
    "\n",
    "# Define the plot size\n",
    "plt.figure(figsize=(10, 6))\n",
    "\n",
    "#colormap\n",
    "colormap=['tan','teal','darkseagreen']\n",
    "\n",
    "#plot\n",
    "plt.stackplot(reshaped_df_2.year, reshaped_df_2.pending, reshaped_df_2.disinterested, reshaped_df_2.successful,\n",
    "             labels=['pending', 'disinterested', 'successful'], colors=colormap)\n",
    "\n",
    "#add legend\n",
    "plt.legend(title='Year', loc='upper left')\n",
    "\n",
    "#add axis labels\n",
    "plt.xlabel('Month')\n",
    "plt.ylabel('Referrals')\n",
    "\n",
    "# Setting the title for the graph\n",
    "plt.title(\"Referrals by status\", size=16)\n",
    "\n",
    "\n",
    "#display area chart\n",
    "plt.show()"
   ]
  },
  {
   "cell_type": "code",
   "execution_count": null,
   "id": "c8b74db5-4c79-425e-b595-2f1ae36e6610",
   "metadata": {},
   "outputs": [],
   "source": [
    "total_referrals_status = data.groupby(['status'])[['referral_id']].count().reset_index()\n",
    "total_referrals_status  = total_referrals_status.sort_values(by=['referral_id'], ascending=False)\n",
    "total_referrals_status"
   ]
  },
  {
   "cell_type": "markdown",
   "id": "5b26531b-c7cc-4061-ba08-52c285a05068",
   "metadata": {},
   "source": [
    "##### Notes: No total temos 878 referrals com status successful, 535 pending  and 57 disinterested"
   ]
  },
  {
   "cell_type": "markdown",
   "id": "215955be-329a-41cd-a041-4d23fc48c7bd",
   "metadata": {
    "jp-MarkdownHeadingCollapsed": true,
    "tags": []
   },
   "source": [
    "#### Plot the distribution of referrals, conditional on status"
   ]
  },
  {
   "cell_type": "code",
   "execution_count": null,
   "id": "ddc439d9-b003-4987-ba2f-c5cece33cf6d",
   "metadata": {},
   "outputs": [],
   "source": [
    "sns.set_theme(style=\"whitegrid\")\n",
    "sns.displot(\n",
    "    data=total_referrals,\n",
    "    x=\"referral_id\", hue=\"status\",\n",
    "    kind=\"kde\", height=6,\n",
    "    multiple=\"fill\", clip=(0, None),\n",
    "    palette=\"ch:rot=-.25,hue=1,light=.75\",\n",
    ")"
   ]
  },
  {
   "cell_type": "code",
   "execution_count": null,
   "id": "f337cc80-e2e1-443e-b7a9-4b47c0d337a3",
   "metadata": {},
   "outputs": [],
   "source": [
    "# Referrals by consultant\n",
    "# how many consultant do we have?\n",
    "# "
   ]
  },
  {
   "cell_type": "markdown",
   "id": "0e933c5d-579a-418a-bee9-3ca966e45d33",
   "metadata": {
    "tags": []
   },
   "source": [
    "## Referrals by country"
   ]
  },
  {
   "cell_type": "code",
   "execution_count": null,
   "id": "ae1506b2-c20c-4e48-b765-29a136107536",
   "metadata": {},
   "outputs": [],
   "source": [
    "countries = data.groupby(['country'])[['referral_id']].count().reset_index()\n",
    "countries = countries[countries['country']!=0]\n",
    "print(countries.referral_id.sum())\n",
    "countries = countries.sort_values(by=['referral_id'], ascending=False)\n",
    "countries"
   ]
  },
  {
   "cell_type": "code",
   "execution_count": null,
   "id": "d40da2cb-e33c-46a3-b7ac-631eebf2f586",
   "metadata": {},
   "outputs": [],
   "source": [
    "#### Notes: The country with more referrals is UK, as expected. And the second prosperous country is singapore"
   ]
  },
  {
   "cell_type": "code",
   "execution_count": null,
   "id": "85b677a2-c527-4413-93b7-a3a0bde9984a",
   "metadata": {},
   "outputs": [],
   "source": []
  },
  {
   "cell_type": "markdown",
   "id": "7acc297a-d82a-4a4b-abd3-4692852bb6ba",
   "metadata": {
    "tags": []
   },
   "source": [
    "####  Plot composition "
   ]
  },
  {
   "cell_type": "code",
   "execution_count": null,
   "id": "7cc3b133-bc73-43b4-b89a-de1b8148edef",
   "metadata": {},
   "outputs": [],
   "source": [
    "# Define data\n",
    "data2 = list(countries.referral_id.unique())\n",
    "data2"
   ]
  },
  {
   "cell_type": "code",
   "execution_count": null,
   "id": "dffb9593-3e64-4328-8f67-6b95aea1b397",
   "metadata": {},
   "outputs": [],
   "source": [
    "# Define labels\n",
    "labels = list(countries.country.unique())\n",
    "labels"
   ]
  },
  {
   "cell_type": "code",
   "execution_count": null,
   "id": "b666f325-71c2-414e-9d2f-cd8dd7ed5f99",
   "metadata": {},
   "outputs": [],
   "source": [
    "# Define the style\n",
    "sns.set_theme(style=\"whitegrid\")\n",
    "\n",
    "# Define the plot size\n",
    "plt.figure(figsize=(10, 6))\n",
    "\n",
    "#define Seaborn color palette to use\n",
    "#colors = sns.color_palette('pastel')[0:5]\n",
    "colors= ['teal', 'tan', 'darkseagreen']\n",
    "#create pie chart\n",
    "plt.pie(data2, labels = labels, colors = colors, autopct='%.0f%%')\n",
    "plt.show()"
   ]
  },
  {
   "cell_type": "markdown",
   "id": "c265762f-505b-45f2-abaa-abfcee7fa8ec",
   "metadata": {
    "tags": []
   },
   "source": [
    "## Referrals by partner type"
   ]
  },
  {
   "cell_type": "code",
   "execution_count": null,
   "id": "074c2b1c-7090-48b6-932b-4ae2668d63bc",
   "metadata": {},
   "outputs": [],
   "source": [
    "partners = data.groupby(['partner_type'])[['referral_id']].count().reset_index()\n",
    "partners = partners[partners['partner_type']!=0]\n",
    "print(partners.referral_id.sum())\n",
    "partners = partners.sort_values(by=['referral_id'], ascending=False)\n",
    "partners"
   ]
  },
  {
   "cell_type": "markdown",
   "id": "e4d74f7c-79c2-489f-a12e-d79bdb0c163c",
   "metadata": {},
   "source": [
    "#### Plot partners type composition"
   ]
  },
  {
   "cell_type": "code",
   "execution_count": null,
   "id": "c59daa8e-4dda-41bb-b749-572a597775d5",
   "metadata": {},
   "outputs": [],
   "source": [
    "# Define the style\n",
    "sns.set_theme(style=\"whitegrid\")\n",
    "\n",
    "# Define the plot size\n",
    "plt.figure(figsize=(12, 6))\n",
    "\n",
    "# define cmap\n",
    "\n",
    "# create a color palette, mapped to these values\n",
    "#cmap = matplotlib.cm.Set2\n",
    "cmap = matplotlib.cm.Paired_r\n",
    "mini=partners.referral_id.min()\n",
    "maxi=partners.referral_id.max()\n",
    "norm = matplotlib.colors.Normalize(vmin=mini, vmax=maxi)\n",
    "colors = [cmap(norm(value)) for value in partners.referral_id]\n",
    "\n",
    "# plot it\n",
    "squarify.plot(sizes=partners['referral_id'], label=partners['partner_type'], color=colors, alpha=.8)\n",
    "plt.axis('off')\n",
    "plt.show()"
   ]
  },
  {
   "cell_type": "markdown",
   "id": "c8f30055-e9af-4d28-9b09-4a25994e4d37",
   "metadata": {},
   "source": [
    "### Top sales people"
   ]
  },
  {
   "cell_type": "markdown",
   "id": "8063141f-5705-4ce7-8424-b7a3d1e522ac",
   "metadata": {},
   "source": [
    "# Results"
   ]
  },
  {
   "cell_type": "markdown",
   "id": "685e64c8-e448-45c7-8e25-60cbb1ae75f1",
   "metadata": {},
   "source": [
    "limitations: we do not have a complete darange for the 2 years to analyze the trend by month or quarter, wich means, we cannot confirm that there is a componente of sazonality. Just that the referrals increased from 2020 to 2021.\n",
    "As comapnias com mais referrals bem sucedidas atreladas nao possuem company id, pq na verdade é o count para nulkl data\n",
    "# o numero maximo de referrals por companhia é 6\n",
    "\n",
    "Of course, it is important to keep in mind that these correlations do not indicate causal relationships, or even the direction of the relationship, between the variables examined. These are just starting points for further investigation, but interesting ones nonetheless.\n",
    "inbound x outbound\n",
    "onde o sistema upseel pode virar novo produto\n",
    "poderiamos investir em um processo de discovery para entender a categoria outros.\n",
    "O que significa IFA?"
   ]
  },
  {
   "cell_type": "markdown",
   "id": "fd23eca1-c322-4262-bd67-91c59ae76261",
   "metadata": {
    "tags": []
   },
   "source": [
    "### 1. "
   ]
  }
 ],
 "metadata": {
  "kernelspec": {
   "display_name": "Python 3 (ipykernel)",
   "language": "python",
   "name": "python3"
  },
  "language_info": {
   "codemirror_mode": {
    "name": "ipython",
    "version": 3
   },
   "file_extension": ".py",
   "mimetype": "text/x-python",
   "name": "python",
   "nbconvert_exporter": "python",
   "pygments_lexer": "ipython3",
   "version": "3.10.5"
  }
 },
 "nbformat": 4,
 "nbformat_minor": 5
}
